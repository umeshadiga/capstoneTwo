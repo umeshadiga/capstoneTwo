{
 "cells": [
  {
   "cell_type": "markdown",
   "metadata": {},
   "source": [
    "# 1 Data wrangling<a id='2_Data_wrangling'></a>"
   ]
  },
  {
   "cell_type": "markdown",
   "metadata": {},
   "source": [
    "## 1.1 Introduction<a id='2.2_Introduction'></a>"
   ]
  },
  {
   "cell_type": "markdown",
   "metadata": {},
   "source": [
    "This dataset consist of several CSV files that contain number of geometric features of thousands of channel holes fabricated at nano-meter dimensions on a semconductor substrate. The data has tow parts \n",
    "1. Original features i.e. the geometric features are measured from image data that are unprocessed, \n",
    "2. Enhanced features i.e. geometric features are collected from processed images. \n",
    "\n",
    "Each part is subdivided further as \n",
    "1. features of a geometric fitted elliptical shape to the channel hole and \n",
    "2. features of the original shape.\n",
    "\n",
    "Each image (of the same region) is acquired three times and the variation in geometric measurements of the same channel hole in three different images provide a measurement precision.\n",
    "The customer wants to know the best protocol to achive optimal precision. There are four possibilities.\n",
    "1. Class 1: Original/unprocessed image features and measurements on actual shape of the channel holes\n",
    "2. Class 2: Original/unprocessed image features and measurements on fitted elliptical shape to the channel holes\n",
    "3. Class 3: Enhanced/processed image features and measurement on actual shape of the channel holes\n",
    "4. Class 4: Enhanced/processed image features and measurements on fitted elliptical shape to the channel holes\n",
    "\n",
    "In the data-wrangling step we focus on collecting data, organizing it, and making sure it's well defined. Some data cleaning  and data exploration is also done here and described at corresponding steps."
   ]
  },
  {
   "cell_type": "markdown",
   "metadata": {},
   "source": [
    "## 1.2 Imports<a id='2.3_Imports'></a>"
   ]
  },
  {
   "cell_type": "markdown",
   "metadata": {},
   "source": [
    "Placing your imports all together at the start of your notebook means you only need to consult one place to check your notebook's dependencies. By all means import something 'in situ' later on when you're experimenting, but if the imported dependency ends up being kept, you should subsequently move the import statement here with the rest."
   ]
  },
  {
   "cell_type": "code",
   "execution_count": 154,
   "metadata": {},
   "outputs": [],
   "source": [
    "#Code task 1#\n",
    "#Import pandas, matplotlib.pyplot, and seaborn in the correct lines below\n",
    "import pandas as pd\n",
    "import matplotlib.pyplot as plt\n",
    "import seaborn as sns\n",
    "import os\n",
    "import glob"
   ]
  },
  {
   "cell_type": "markdown",
   "metadata": {},
   "source": [
    "## 1.3 Objectives<a id='2.4_Objectives'></a>"
   ]
  },
  {
   "cell_type": "markdown",
   "metadata": {},
   "source": [
    "* Do you think you may have the data you need to tackle the desired question?\n",
    "\n",
    "* Do you have any fundamental issues with the data?"
   ]
  },
  {
   "cell_type": "raw",
   "metadata": {},
   "source": []
  },
  {
   "cell_type": "markdown",
   "metadata": {},
   "source": [
    "## 1.4 Parse The Data: Class 1 <a id='2.5_Load_The_Ski_Resort_Data'></a>"
   ]
  },
  {
   "cell_type": "code",
   "execution_count": 155,
   "metadata": {},
   "outputs": [
    {
     "name": "stdout",
     "output_type": "stream",
     "text": [
      "11\n",
      "11\n",
      "11\n"
     ]
    }
   ],
   "source": [
    "# the supplied CSV data file is the raw_data directory\n",
    "# get data file names\n",
    "path =r'C:\\Users\\umesh adiga\\Desktop\\SpringBoard\\capstoneTwo\\capstone2_data\\Metrology\\original'\n",
    "# Get the list of all files in directory tree at given path\n",
    "listOfFolders = [f.path for f in os.scandir(path) if f.is_dir()]\n",
    "\n",
    "#There are three measurements for each channel hole using three images\n",
    "# i.e. the first file in files_1 list below, files_2 list below and files_3 list below form a triplicate measurements\n",
    "# from which precision in the form of standard deviation of measurements for a same channel hole as to be calculated.\n",
    "\n",
    "files=[]\n",
    "\n",
    "fx1=[]\n",
    "fx2=[]\n",
    "fx3=[]\n",
    "for fold in listOfFolders:\n",
    "    for file in glob.glob(fold + r\"\\csv0_noEllFit\\OneDrive*_01_*.csv\"):\n",
    "        fx1.append(file)\n",
    "    for file in glob.glob(fold + r\"\\csv0_noEllFit\\OneDrive*_02_*.csv\"):\n",
    "        fx2.append(file)\n",
    "    for file in glob.glob(fold + r\"\\csv0_noEllFit\\OneDrive*_03_*.csv\"):\n",
    "        fx3.append(file)\n",
    "\n",
    "files.append(fx1)\n",
    "files.append(fx2)\n",
    "files.append(fx3)\n",
    "print(len(fx1))\n",
    "print(len(fx2))\n",
    "print(len(fx3))"
   ]
  },
  {
   "cell_type": "markdown",
   "metadata": {},
   "source": [
    "Good first steps in auditing the data are the info method and displaying the first few records with head."
   ]
  },
  {
   "cell_type": "code",
   "execution_count": 156,
   "metadata": {
    "scrolled": true
   },
   "outputs": [
    {
     "name": "stdout",
     "output_type": "stream",
     "text": [
      "3\n",
      "11\n",
      "1539\n",
      "<class 'pandas.core.frame.DataFrame'>\n",
      "RangeIndex: 1539 entries, 0 to 1538\n",
      "Data columns (total 16 columns):\n",
      " #   Column  Non-Null Count  Dtype  \n",
      "---  ------  --------------  -----  \n",
      " 0   0       1539 non-null   object \n",
      " 1   1       1539 non-null   object \n",
      " 2   2       1539 non-null   float64\n",
      " 3   3       1539 non-null   float64\n",
      " 4   4       1539 non-null   float64\n",
      " 5   5       1539 non-null   float64\n",
      " 6   6       1539 non-null   float64\n",
      " 7   7       1539 non-null   float64\n",
      " 8   8       1539 non-null   float64\n",
      " 9   9       1539 non-null   float64\n",
      " 10  10      1539 non-null   float64\n",
      " 11  11      1539 non-null   float64\n",
      " 12  12      1539 non-null   float64\n",
      " 13  13      1539 non-null   float64\n",
      " 14  14      1539 non-null   float64\n",
      " 15  15      1539 non-null   float64\n",
      "dtypes: float64(14), object(2)\n",
      "memory usage: 192.5+ KB\n",
      "<class 'pandas.core.frame.DataFrame'>\n",
      "RangeIndex: 1552 entries, 0 to 1551\n",
      "Data columns (total 16 columns):\n",
      " #   Column  Non-Null Count  Dtype  \n",
      "---  ------  --------------  -----  \n",
      " 0   0       1552 non-null   object \n",
      " 1   1       1552 non-null   object \n",
      " 2   2       1552 non-null   float64\n",
      " 3   3       1552 non-null   float64\n",
      " 4   4       1552 non-null   float64\n",
      " 5   5       1552 non-null   float64\n",
      " 6   6       1552 non-null   float64\n",
      " 7   7       1552 non-null   float64\n",
      " 8   8       1552 non-null   float64\n",
      " 9   9       1552 non-null   float64\n",
      " 10  10      1552 non-null   float64\n",
      " 11  11      1552 non-null   float64\n",
      " 12  12      1552 non-null   float64\n",
      " 13  13      1552 non-null   float64\n",
      " 14  14      1552 non-null   float64\n",
      " 15  15      1552 non-null   float64\n",
      "dtypes: float64(14), object(2)\n",
      "memory usage: 194.1+ KB\n",
      "<class 'pandas.core.frame.DataFrame'>\n",
      "RangeIndex: 1553 entries, 0 to 1552\n",
      "Data columns (total 16 columns):\n",
      " #   Column  Non-Null Count  Dtype  \n",
      "---  ------  --------------  -----  \n",
      " 0   0       1553 non-null   object \n",
      " 1   1       1553 non-null   object \n",
      " 2   2       1553 non-null   float64\n",
      " 3   3       1553 non-null   float64\n",
      " 4   4       1553 non-null   float64\n",
      " 5   5       1553 non-null   float64\n",
      " 6   6       1553 non-null   float64\n",
      " 7   7       1553 non-null   float64\n",
      " 8   8       1553 non-null   float64\n",
      " 9   9       1553 non-null   float64\n",
      " 10  10      1553 non-null   float64\n",
      " 11  11      1553 non-null   float64\n",
      " 12  12      1553 non-null   float64\n",
      " 13  13      1553 non-null   float64\n",
      " 14  14      1553 non-null   float64\n",
      " 15  15      1553 non-null   float64\n",
      "dtypes: float64(14), object(2)\n",
      "memory usage: 194.2+ KB\n"
     ]
    },
    {
     "data": {
      "text/html": [
       "<div>\n",
       "<style scoped>\n",
       "    .dataframe tbody tr th:only-of-type {\n",
       "        vertical-align: middle;\n",
       "    }\n",
       "\n",
       "    .dataframe tbody tr th {\n",
       "        vertical-align: top;\n",
       "    }\n",
       "\n",
       "    .dataframe thead th {\n",
       "        text-align: right;\n",
       "    }\n",
       "</style>\n",
       "<table border=\"1\" class=\"dataframe\">\n",
       "  <thead>\n",
       "    <tr style=\"text-align: right;\">\n",
       "      <th></th>\n",
       "      <th>0</th>\n",
       "      <th>1</th>\n",
       "      <th>2</th>\n",
       "      <th>3</th>\n",
       "      <th>4</th>\n",
       "      <th>5</th>\n",
       "      <th>6</th>\n",
       "      <th>7</th>\n",
       "      <th>8</th>\n",
       "      <th>9</th>\n",
       "      <th>10</th>\n",
       "      <th>11</th>\n",
       "      <th>12</th>\n",
       "      <th>13</th>\n",
       "      <th>14</th>\n",
       "      <th>15</th>\n",
       "    </tr>\n",
       "  </thead>\n",
       "  <tbody>\n",
       "    <tr>\n",
       "      <th>0</th>\n",
       "      <td>OneDrive_MicronDRAM_Middle_20210121_DMprecisio...</td>\n",
       "      <td>2390_374</td>\n",
       "      <td>3.574118e-16</td>\n",
       "      <td>4.636496e-16</td>\n",
       "      <td>7.193437e-08</td>\n",
       "      <td>8.544922e-08</td>\n",
       "      <td>4.461613e-16</td>\n",
       "      <td>1.456904e-15</td>\n",
       "      <td>4.534274e-16</td>\n",
       "      <td>0.867174</td>\n",
       "      <td>110.109604</td>\n",
       "      <td>0.974129</td>\n",
       "      <td>5.895996e-08</td>\n",
       "      <td>6.066895e-08</td>\n",
       "      <td>5.810547e-08</td>\n",
       "      <td>5.981445e-08</td>\n",
       "    </tr>\n",
       "    <tr>\n",
       "      <th>1</th>\n",
       "      <td>OneDrive_MicronDRAM_Middle_20210121_DMprecisio...</td>\n",
       "      <td>2198_378</td>\n",
       "      <td>2.340153e-16</td>\n",
       "      <td>3.190786e-16</td>\n",
       "      <td>5.713994e-08</td>\n",
       "      <td>6.665039e-08</td>\n",
       "      <td>2.803704e-16</td>\n",
       "      <td>1.002762e-15</td>\n",
       "      <td>2.774596e-16</td>\n",
       "      <td>0.924549</td>\n",
       "      <td>99.283493</td>\n",
       "      <td>0.984639</td>\n",
       "      <td>5.810547e-08</td>\n",
       "      <td>5.639648e-08</td>\n",
       "      <td>5.810547e-08</td>\n",
       "      <td>5.725098e-08</td>\n",
       "    </tr>\n",
       "    <tr>\n",
       "      <th>2</th>\n",
       "      <td>OneDrive_MicronDRAM_Middle_20210121_DMprecisio...</td>\n",
       "      <td>2814_444</td>\n",
       "      <td>4.216656e-16</td>\n",
       "      <td>5.366653e-16</td>\n",
       "      <td>7.877031e-08</td>\n",
       "      <td>9.228516e-08</td>\n",
       "      <td>4.910349e-16</td>\n",
       "      <td>1.718520e-15</td>\n",
       "      <td>5.315543e-16</td>\n",
       "      <td>0.940009</td>\n",
       "      <td>88.810051</td>\n",
       "      <td>0.967337</td>\n",
       "      <td>5.468750e-08</td>\n",
       "      <td>5.895996e-08</td>\n",
       "      <td>5.810547e-08</td>\n",
       "      <td>6.237793e-08</td>\n",
       "    </tr>\n",
       "    <tr>\n",
       "      <th>3</th>\n",
       "      <td>OneDrive_MicronDRAM_Middle_20210121_DMprecisio...</td>\n",
       "      <td>1042_450</td>\n",
       "      <td>4.632846e-16</td>\n",
       "      <td>5.833954e-16</td>\n",
       "      <td>8.189506e-08</td>\n",
       "      <td>9.741211e-08</td>\n",
       "      <td>5.242769e-16</td>\n",
       "      <td>1.901510e-15</td>\n",
       "      <td>5.844175e-16</td>\n",
       "      <td>0.960563</td>\n",
       "      <td>71.478729</td>\n",
       "      <td>0.973906</td>\n",
       "      <td>5.725098e-08</td>\n",
       "      <td>6.066895e-08</td>\n",
       "      <td>5.810547e-08</td>\n",
       "      <td>5.981445e-08</td>\n",
       "    </tr>\n",
       "    <tr>\n",
       "      <th>4</th>\n",
       "      <td>OneDrive_MicronDRAM_Middle_20210121_DMprecisio...</td>\n",
       "      <td>1876_452</td>\n",
       "      <td>4.505068e-16</td>\n",
       "      <td>5.673319e-16</td>\n",
       "      <td>7.997874e-08</td>\n",
       "      <td>9.399414e-08</td>\n",
       "      <td>5.181807e-16</td>\n",
       "      <td>1.874791e-15</td>\n",
       "      <td>5.519986e-16</td>\n",
       "      <td>0.973179</td>\n",
       "      <td>45.448242</td>\n",
       "      <td>0.973954</td>\n",
       "      <td>5.639648e-08</td>\n",
       "      <td>5.981445e-08</td>\n",
       "      <td>5.810547e-08</td>\n",
       "      <td>5.981445e-08</td>\n",
       "    </tr>\n",
       "  </tbody>\n",
       "</table>\n",
       "</div>"
      ],
      "text/plain": [
       "                                                  0          1             2   \\\n",
       "0  OneDrive_MicronDRAM_Middle_20210121_DMprecisio...   2390_374  3.574118e-16   \n",
       "1  OneDrive_MicronDRAM_Middle_20210121_DMprecisio...   2198_378  2.340153e-16   \n",
       "2  OneDrive_MicronDRAM_Middle_20210121_DMprecisio...   2814_444  4.216656e-16   \n",
       "3  OneDrive_MicronDRAM_Middle_20210121_DMprecisio...   1042_450  4.632846e-16   \n",
       "4  OneDrive_MicronDRAM_Middle_20210121_DMprecisio...   1876_452  4.505068e-16   \n",
       "\n",
       "             3             4             5             6             7   \\\n",
       "0  4.636496e-16  7.193437e-08  8.544922e-08  4.461613e-16  1.456904e-15   \n",
       "1  3.190786e-16  5.713994e-08  6.665039e-08  2.803704e-16  1.002762e-15   \n",
       "2  5.366653e-16  7.877031e-08  9.228516e-08  4.910349e-16  1.718520e-15   \n",
       "3  5.833954e-16  8.189506e-08  9.741211e-08  5.242769e-16  1.901510e-15   \n",
       "4  5.673319e-16  7.997874e-08  9.399414e-08  5.181807e-16  1.874791e-15   \n",
       "\n",
       "             8         9           10        11            12            13  \\\n",
       "0  4.534274e-16  0.867174  110.109604  0.974129  5.895996e-08  6.066895e-08   \n",
       "1  2.774596e-16  0.924549   99.283493  0.984639  5.810547e-08  5.639648e-08   \n",
       "2  5.315543e-16  0.940009   88.810051  0.967337  5.468750e-08  5.895996e-08   \n",
       "3  5.844175e-16  0.960563   71.478729  0.973906  5.725098e-08  6.066895e-08   \n",
       "4  5.519986e-16  0.973179   45.448242  0.973954  5.639648e-08  5.981445e-08   \n",
       "\n",
       "             14            15  \n",
       "0  5.810547e-08  5.981445e-08  \n",
       "1  5.810547e-08  5.725098e-08  \n",
       "2  5.810547e-08  6.237793e-08  \n",
       "3  5.810547e-08  5.981445e-08  \n",
       "4  5.810547e-08  5.981445e-08  "
      ]
     },
     "execution_count": 156,
     "metadata": {},
     "output_type": "execute_result"
    }
   ],
   "source": [
    "dfx = [] # data frame of frame of frames\n",
    "\n",
    "for fx in range (0, len(files)):\n",
    "    dfl=[]\n",
    "    for file in files[fx]:\n",
    "        df = pd.read_csv(file, header=None)\n",
    "        dfl.append(df)\n",
    "    dfx.append(dfl)\n",
    "\n",
    "print(len(dfx))\n",
    "print(len(dfx[0]))\n",
    "print(len(dfx[0][0]))\n",
    "##Call the info method to do quick sanity check\n",
    "dfx[0][0].info()\n",
    "dfx[1][0].info()\n",
    "dfx[2][0].info()\n",
    "\n",
    "dfx[2][0].head()\n"
   ]
  },
  {
   "cell_type": "markdown",
   "metadata": {},
   "source": [
    "OK. This shows the number of entries in each of the triplets is not the same. We cannot calculate the standard deviation of the feature measurement for the same hole in the triplets (three measurements for each channel hole is made using three images) if we do not know which holes have missing measurements.\n",
    "\n",
    "Column 1 in each file provides X_Y location of the channel hole. Ideally this X_Y location should be the same for all three channel holes that are considered triplicate data of the same channel hole. Unfortunately due to process issues it is no so (imaging stage drifts over time). Fortunately this drift is very small and it is possible to find the triplicate measurements of the same channel hole by finding the distance between X_Y locations and constrining it to be within certain distance. \n",
    "\n",
    "This process will also remove those channel holes with missing information (i.e. no triplicate measurements) from the further analysis process."
   ]
  },
  {
   "cell_type": "code",
   "execution_count": 157,
   "metadata": {
    "scrolled": true
   },
   "outputs": [
    {
     "data": {
      "text/html": [
       "<div>\n",
       "<style scoped>\n",
       "    .dataframe tbody tr th:only-of-type {\n",
       "        vertical-align: middle;\n",
       "    }\n",
       "\n",
       "    .dataframe tbody tr th {\n",
       "        vertical-align: top;\n",
       "    }\n",
       "\n",
       "    .dataframe thead th {\n",
       "        text-align: right;\n",
       "    }\n",
       "</style>\n",
       "<table border=\"1\" class=\"dataframe\">\n",
       "  <thead>\n",
       "    <tr style=\"text-align: right;\">\n",
       "      <th></th>\n",
       "      <th>0</th>\n",
       "      <th>1</th>\n",
       "      <th>2</th>\n",
       "      <th>3</th>\n",
       "      <th>4</th>\n",
       "      <th>5</th>\n",
       "      <th>6</th>\n",
       "      <th>7</th>\n",
       "      <th>8</th>\n",
       "      <th>9</th>\n",
       "      <th>10</th>\n",
       "      <th>11</th>\n",
       "      <th>12</th>\n",
       "      <th>13</th>\n",
       "      <th>14</th>\n",
       "      <th>15</th>\n",
       "    </tr>\n",
       "  </thead>\n",
       "  <tbody>\n",
       "    <tr>\n",
       "      <th>0</th>\n",
       "      <td>OneDrive_MicronDRAM_Middle_20210121_DMprecisio...</td>\n",
       "      <td>2406_408</td>\n",
       "      <td>3.625229e-16</td>\n",
       "      <td>4.687607e-16</td>\n",
       "      <td>7.193437e-08</td>\n",
       "      <td>8.544922e-08</td>\n",
       "      <td>4.547634e-16</td>\n",
       "      <td>1.483433e-15</td>\n",
       "      <td>4.534274e-16</td>\n",
       "      <td>0.878787</td>\n",
       "      <td>101.936035</td>\n",
       "      <td>0.978325</td>\n",
       "      <td>5.981445e-08</td>\n",
       "      <td>6.066895e-08</td>\n",
       "      <td>5.810547e-08</td>\n",
       "      <td>5.981445e-08</td>\n",
       "    </tr>\n",
       "    <tr>\n",
       "      <th>1</th>\n",
       "      <td>OneDrive_MicronDRAM_Middle_20210121_DMprecisio...</td>\n",
       "      <td>2314_408</td>\n",
       "      <td>3.979355e-16</td>\n",
       "      <td>5.089194e-16</td>\n",
       "      <td>7.585289e-08</td>\n",
       "      <td>8.886719e-08</td>\n",
       "      <td>5.189917e-16</td>\n",
       "      <td>1.636060e-15</td>\n",
       "      <td>4.870147e-16</td>\n",
       "      <td>0.815638</td>\n",
       "      <td>94.485428</td>\n",
       "      <td>0.974084</td>\n",
       "      <td>5.810547e-08</td>\n",
       "      <td>5.895996e-08</td>\n",
       "      <td>5.810547e-08</td>\n",
       "      <td>5.981445e-08</td>\n",
       "    </tr>\n",
       "    <tr>\n",
       "      <th>2</th>\n",
       "      <td>OneDrive_MicronDRAM_Middle_20210121_DMprecisio...</td>\n",
       "      <td>2216_412</td>\n",
       "      <td>2.278090e-16</td>\n",
       "      <td>3.125072e-16</td>\n",
       "      <td>5.663939e-08</td>\n",
       "      <td>6.665039e-08</td>\n",
       "      <td>2.659693e-16</td>\n",
       "      <td>9.692724e-16</td>\n",
       "      <td>2.774596e-16</td>\n",
       "      <td>0.931644</td>\n",
       "      <td>79.474884</td>\n",
       "      <td>0.979592</td>\n",
       "      <td>5.810547e-08</td>\n",
       "      <td>5.554199e-08</td>\n",
       "      <td>5.810547e-08</td>\n",
       "      <td>5.810547e-08</td>\n",
       "    </tr>\n",
       "    <tr>\n",
       "      <th>3</th>\n",
       "      <td>OneDrive_MicronDRAM_Middle_20210121_DMprecisio...</td>\n",
       "      <td>2826_480</td>\n",
       "      <td>4.307926e-16</td>\n",
       "      <td>5.454272e-16</td>\n",
       "      <td>7.826976e-08</td>\n",
       "      <td>9.228516e-08</td>\n",
       "      <td>4.874511e-16</td>\n",
       "      <td>1.774125e-15</td>\n",
       "      <td>5.315543e-16</td>\n",
       "      <td>0.948516</td>\n",
       "      <td>83.301819</td>\n",
       "      <td>0.977630</td>\n",
       "      <td>5.639648e-08</td>\n",
       "      <td>5.895996e-08</td>\n",
       "      <td>5.810547e-08</td>\n",
       "      <td>5.895996e-08</td>\n",
       "    </tr>\n",
       "    <tr>\n",
       "      <th>4</th>\n",
       "      <td>OneDrive_MicronDRAM_Middle_20210121_DMprecisio...</td>\n",
       "      <td>1056_484</td>\n",
       "      <td>4.786179e-16</td>\n",
       "      <td>5.994588e-16</td>\n",
       "      <td>8.289616e-08</td>\n",
       "      <td>9.741211e-08</td>\n",
       "      <td>5.734712e-16</td>\n",
       "      <td>1.979251e-15</td>\n",
       "      <td>5.928874e-16</td>\n",
       "      <td>0.931859</td>\n",
       "      <td>38.257317</td>\n",
       "      <td>0.974721</td>\n",
       "      <td>5.981445e-08</td>\n",
       "      <td>6.066895e-08</td>\n",
       "      <td>5.810547e-08</td>\n",
       "      <td>5.810547e-08</td>\n",
       "    </tr>\n",
       "  </tbody>\n",
       "</table>\n",
       "</div>"
      ],
      "text/plain": [
       "                                                  0          1             2   \\\n",
       "0  OneDrive_MicronDRAM_Middle_20210121_DMprecisio...   2406_408  3.625229e-16   \n",
       "1  OneDrive_MicronDRAM_Middle_20210121_DMprecisio...   2314_408  3.979355e-16   \n",
       "2  OneDrive_MicronDRAM_Middle_20210121_DMprecisio...   2216_412  2.278090e-16   \n",
       "3  OneDrive_MicronDRAM_Middle_20210121_DMprecisio...   2826_480  4.307926e-16   \n",
       "4  OneDrive_MicronDRAM_Middle_20210121_DMprecisio...   1056_484  4.786179e-16   \n",
       "\n",
       "             3             4             5             6             7   \\\n",
       "0  4.687607e-16  7.193437e-08  8.544922e-08  4.547634e-16  1.483433e-15   \n",
       "1  5.089194e-16  7.585289e-08  8.886719e-08  5.189917e-16  1.636060e-15   \n",
       "2  3.125072e-16  5.663939e-08  6.665039e-08  2.659693e-16  9.692724e-16   \n",
       "3  5.454272e-16  7.826976e-08  9.228516e-08  4.874511e-16  1.774125e-15   \n",
       "4  5.994588e-16  8.289616e-08  9.741211e-08  5.734712e-16  1.979251e-15   \n",
       "\n",
       "             8         9           10        11            12            13  \\\n",
       "0  4.534274e-16  0.878787  101.936035  0.978325  5.981445e-08  6.066895e-08   \n",
       "1  4.870147e-16  0.815638   94.485428  0.974084  5.810547e-08  5.895996e-08   \n",
       "2  2.774596e-16  0.931644   79.474884  0.979592  5.810547e-08  5.554199e-08   \n",
       "3  5.315543e-16  0.948516   83.301819  0.977630  5.639648e-08  5.895996e-08   \n",
       "4  5.928874e-16  0.931859   38.257317  0.974721  5.981445e-08  6.066895e-08   \n",
       "\n",
       "             14            15  \n",
       "0  5.810547e-08  5.981445e-08  \n",
       "1  5.810547e-08  5.981445e-08  \n",
       "2  5.810547e-08  5.810547e-08  \n",
       "3  5.810547e-08  5.895996e-08  \n",
       "4  5.810547e-08  5.810547e-08  "
      ]
     },
     "execution_count": 157,
     "metadata": {},
     "output_type": "execute_result"
    }
   ],
   "source": [
    "dfx[0][0].head()\n",
    "#dfx[1][0][0].head()\n",
    "#dfx[2][0][0].head()"
   ]
  },
  {
   "cell_type": "markdown",
   "metadata": {},
   "source": [
    "OK, we do not have plausible column headings in the CSV files. So we must read the headings description file and provide column headings for further analysis"
   ]
  },
  {
   "cell_type": "code",
   "execution_count": 158,
   "metadata": {},
   "outputs": [
    {
     "data": {
      "text/html": [
       "<div>\n",
       "<style scoped>\n",
       "    .dataframe tbody tr th:only-of-type {\n",
       "        vertical-align: middle;\n",
       "    }\n",
       "\n",
       "    .dataframe tbody tr th {\n",
       "        vertical-align: top;\n",
       "    }\n",
       "\n",
       "    .dataframe thead th {\n",
       "        text-align: right;\n",
       "    }\n",
       "</style>\n",
       "<table border=\"1\" class=\"dataframe\">\n",
       "  <thead>\n",
       "    <tr style=\"text-align: right;\">\n",
       "      <th></th>\n",
       "      <th>file_name</th>\n",
       "      <th>location (X_Y)</th>\n",
       "      <th>area</th>\n",
       "      <th>area_fitted</th>\n",
       "      <th>perimeter</th>\n",
       "      <th>perimeter_Fitted</th>\n",
       "      <th>areaEnclosingCircle</th>\n",
       "      <th>areaFitEllipse</th>\n",
       "      <th>areaMinAreaRectangle</th>\n",
       "      <th>eccentricity</th>\n",
       "      <th>orientation</th>\n",
       "      <th>convexity</th>\n",
       "      <th>0degDiam</th>\n",
       "      <th>45degDiam</th>\n",
       "      <th>90degDiam</th>\n",
       "      <th>135degDiam</th>\n",
       "    </tr>\n",
       "  </thead>\n",
       "  <tbody>\n",
       "    <tr>\n",
       "      <th>0</th>\n",
       "      <td>OneDrive_MicronDRAM_Middle_20210121_DMprecisio...</td>\n",
       "      <td>2406_408</td>\n",
       "      <td>3.625229e-16</td>\n",
       "      <td>4.687607e-16</td>\n",
       "      <td>7.193437e-08</td>\n",
       "      <td>8.544922e-08</td>\n",
       "      <td>4.547634e-16</td>\n",
       "      <td>1.483433e-15</td>\n",
       "      <td>4.534274e-16</td>\n",
       "      <td>0.878787</td>\n",
       "      <td>101.936035</td>\n",
       "      <td>0.978325</td>\n",
       "      <td>5.981445e-08</td>\n",
       "      <td>6.066895e-08</td>\n",
       "      <td>5.810547e-08</td>\n",
       "      <td>5.981445e-08</td>\n",
       "    </tr>\n",
       "    <tr>\n",
       "      <th>1</th>\n",
       "      <td>OneDrive_MicronDRAM_Middle_20210121_DMprecisio...</td>\n",
       "      <td>2314_408</td>\n",
       "      <td>3.979355e-16</td>\n",
       "      <td>5.089194e-16</td>\n",
       "      <td>7.585289e-08</td>\n",
       "      <td>8.886719e-08</td>\n",
       "      <td>5.189917e-16</td>\n",
       "      <td>1.636060e-15</td>\n",
       "      <td>4.870147e-16</td>\n",
       "      <td>0.815638</td>\n",
       "      <td>94.485428</td>\n",
       "      <td>0.974084</td>\n",
       "      <td>5.810547e-08</td>\n",
       "      <td>5.895996e-08</td>\n",
       "      <td>5.810547e-08</td>\n",
       "      <td>5.981445e-08</td>\n",
       "    </tr>\n",
       "    <tr>\n",
       "      <th>2</th>\n",
       "      <td>OneDrive_MicronDRAM_Middle_20210121_DMprecisio...</td>\n",
       "      <td>2216_412</td>\n",
       "      <td>2.278090e-16</td>\n",
       "      <td>3.125072e-16</td>\n",
       "      <td>5.663939e-08</td>\n",
       "      <td>6.665039e-08</td>\n",
       "      <td>2.659693e-16</td>\n",
       "      <td>9.692724e-16</td>\n",
       "      <td>2.774596e-16</td>\n",
       "      <td>0.931644</td>\n",
       "      <td>79.474884</td>\n",
       "      <td>0.979592</td>\n",
       "      <td>5.810547e-08</td>\n",
       "      <td>5.554199e-08</td>\n",
       "      <td>5.810547e-08</td>\n",
       "      <td>5.810547e-08</td>\n",
       "    </tr>\n",
       "    <tr>\n",
       "      <th>3</th>\n",
       "      <td>OneDrive_MicronDRAM_Middle_20210121_DMprecisio...</td>\n",
       "      <td>2826_480</td>\n",
       "      <td>4.307926e-16</td>\n",
       "      <td>5.454272e-16</td>\n",
       "      <td>7.826976e-08</td>\n",
       "      <td>9.228516e-08</td>\n",
       "      <td>4.874511e-16</td>\n",
       "      <td>1.774125e-15</td>\n",
       "      <td>5.315543e-16</td>\n",
       "      <td>0.948516</td>\n",
       "      <td>83.301819</td>\n",
       "      <td>0.977630</td>\n",
       "      <td>5.639648e-08</td>\n",
       "      <td>5.895996e-08</td>\n",
       "      <td>5.810547e-08</td>\n",
       "      <td>5.895996e-08</td>\n",
       "    </tr>\n",
       "    <tr>\n",
       "      <th>4</th>\n",
       "      <td>OneDrive_MicronDRAM_Middle_20210121_DMprecisio...</td>\n",
       "      <td>1056_484</td>\n",
       "      <td>4.786179e-16</td>\n",
       "      <td>5.994588e-16</td>\n",
       "      <td>8.289616e-08</td>\n",
       "      <td>9.741211e-08</td>\n",
       "      <td>5.734712e-16</td>\n",
       "      <td>1.979251e-15</td>\n",
       "      <td>5.928874e-16</td>\n",
       "      <td>0.931859</td>\n",
       "      <td>38.257317</td>\n",
       "      <td>0.974721</td>\n",
       "      <td>5.981445e-08</td>\n",
       "      <td>6.066895e-08</td>\n",
       "      <td>5.810547e-08</td>\n",
       "      <td>5.810547e-08</td>\n",
       "    </tr>\n",
       "  </tbody>\n",
       "</table>\n",
       "</div>"
      ],
      "text/plain": [
       "                                           file_name location (X_Y)  \\\n",
       "0  OneDrive_MicronDRAM_Middle_20210121_DMprecisio...       2406_408   \n",
       "1  OneDrive_MicronDRAM_Middle_20210121_DMprecisio...       2314_408   \n",
       "2  OneDrive_MicronDRAM_Middle_20210121_DMprecisio...       2216_412   \n",
       "3  OneDrive_MicronDRAM_Middle_20210121_DMprecisio...       2826_480   \n",
       "4  OneDrive_MicronDRAM_Middle_20210121_DMprecisio...       1056_484   \n",
       "\n",
       "           area   area_fitted     perimeter  perimeter_Fitted  \\\n",
       "0  3.625229e-16  4.687607e-16  7.193437e-08      8.544922e-08   \n",
       "1  3.979355e-16  5.089194e-16  7.585289e-08      8.886719e-08   \n",
       "2  2.278090e-16  3.125072e-16  5.663939e-08      6.665039e-08   \n",
       "3  4.307926e-16  5.454272e-16  7.826976e-08      9.228516e-08   \n",
       "4  4.786179e-16  5.994588e-16  8.289616e-08      9.741211e-08   \n",
       "\n",
       "    areaEnclosingCircle   areaFitEllipse   areaMinAreaRectangle  \\\n",
       "0          4.547634e-16     1.483433e-15           4.534274e-16   \n",
       "1          5.189917e-16     1.636060e-15           4.870147e-16   \n",
       "2          2.659693e-16     9.692724e-16           2.774596e-16   \n",
       "3          4.874511e-16     1.774125e-15           5.315543e-16   \n",
       "4          5.734712e-16     1.979251e-15           5.928874e-16   \n",
       "\n",
       "    eccentricity   orientation   convexity      0degDiam     45degDiam  \\\n",
       "0       0.878787    101.936035    0.978325  5.981445e-08  6.066895e-08   \n",
       "1       0.815638     94.485428    0.974084  5.810547e-08  5.895996e-08   \n",
       "2       0.931644     79.474884    0.979592  5.810547e-08  5.554199e-08   \n",
       "3       0.948516     83.301819    0.977630  5.639648e-08  5.895996e-08   \n",
       "4       0.931859     38.257317    0.974721  5.981445e-08  6.066895e-08   \n",
       "\n",
       "      90degDiam    135degDiam  \n",
       "0  5.810547e-08  5.981445e-08  \n",
       "1  5.810547e-08  5.981445e-08  \n",
       "2  5.810547e-08  5.810547e-08  \n",
       "3  5.810547e-08  5.895996e-08  \n",
       "4  5.810547e-08  5.810547e-08  "
      ]
     },
     "execution_count": 158,
     "metadata": {},
     "output_type": "execute_result"
    }
   ],
   "source": [
    "# Read header descriptor file\n",
    "header_descriptor = r'C:\\Users\\umesh adiga\\Desktop\\SpringBoard\\capstoneTwo\\capstone2_data\\Metrology\\header.csv'\n",
    "df = pd.read_csv(header_descriptor)\n",
    "dfl= df.columns.tolist()\n",
    "for f in range(0, len(dfx)):\n",
    "    for d in range(0, len(dfx[f])):\n",
    "        dfx[f][d].columns=dfl\n",
    "        dfx[1][0].columns=dfl\n",
    "        dfx[2][0].columns=dfl\n",
    "\n",
    "# look at the column headings and make sure they are correct\n",
    "dfx[0][0].head()\n"
   ]
  },
  {
   "cell_type": "markdown",
   "metadata": {},
   "source": [
    "## 1.5 Provide index label for rows based on location and correspondance in triplets <a id='2.6_Explore_The_Data'></a>"
   ]
  },
  {
   "cell_type": "markdown",
   "metadata": {},
   "source": [
    "### 1.5.1 Create a primary index label column in the first dataframe of the triplets <a id='2.6.1_Find_Your_Resort_Of_Interest'></a>"
   ]
  },
  {
   "cell_type": "markdown",
   "metadata": {},
   "source": [
    "This means, we force sequential labeling in dfx[0][*] dataframe as that is considered primary file/frame and match dfx[1][*] and dfx[2][*] columns to the primary frame. All the rows that are not represented by three measurements are discarded."
   ]
  },
  {
   "cell_type": "code",
   "execution_count": 159,
   "metadata": {},
   "outputs": [
    {
     "data": {
      "text/html": [
       "<div>\n",
       "<style scoped>\n",
       "    .dataframe tbody tr th:only-of-type {\n",
       "        vertical-align: middle;\n",
       "    }\n",
       "\n",
       "    .dataframe tbody tr th {\n",
       "        vertical-align: top;\n",
       "    }\n",
       "\n",
       "    .dataframe thead th {\n",
       "        text-align: right;\n",
       "    }\n",
       "</style>\n",
       "<table border=\"1\" class=\"dataframe\">\n",
       "  <thead>\n",
       "    <tr style=\"text-align: right;\">\n",
       "      <th></th>\n",
       "      <th>file_name</th>\n",
       "      <th>label</th>\n",
       "      <th>location (X_Y)</th>\n",
       "      <th>area</th>\n",
       "      <th>area_fitted</th>\n",
       "      <th>perimeter</th>\n",
       "      <th>perimeter_Fitted</th>\n",
       "      <th>areaEnclosingCircle</th>\n",
       "      <th>areaFitEllipse</th>\n",
       "      <th>areaMinAreaRectangle</th>\n",
       "      <th>eccentricity</th>\n",
       "      <th>orientation</th>\n",
       "      <th>convexity</th>\n",
       "      <th>0degDiam</th>\n",
       "      <th>45degDiam</th>\n",
       "      <th>90degDiam</th>\n",
       "      <th>135degDiam</th>\n",
       "    </tr>\n",
       "  </thead>\n",
       "  <tbody>\n",
       "    <tr>\n",
       "      <th>0</th>\n",
       "      <td>OneDrive_MicronDRAM_Middle_20210121_DMprecisio...</td>\n",
       "      <td>1</td>\n",
       "      <td>520_408</td>\n",
       "      <td>3.753007e-16</td>\n",
       "      <td>4.819036e-16</td>\n",
       "      <td>7.243492e-08</td>\n",
       "      <td>8.544922e-08</td>\n",
       "      <td>4.261248e-16</td>\n",
       "      <td>1.546867e-15</td>\n",
       "      <td>4.556179e-16</td>\n",
       "      <td>0.958101</td>\n",
       "      <td>70.295807</td>\n",
       "      <td>0.980916</td>\n",
       "      <td>5.639648e-08</td>\n",
       "      <td>5.725098e-08</td>\n",
       "      <td>5.810547e-08</td>\n",
       "      <td>5.810547e-08</td>\n",
       "    </tr>\n",
       "    <tr>\n",
       "      <th>1</th>\n",
       "      <td>OneDrive_MicronDRAM_Middle_20210121_DMprecisio...</td>\n",
       "      <td>2</td>\n",
       "      <td>1542_408</td>\n",
       "      <td>5.490780e-16</td>\n",
       "      <td>6.775856e-16</td>\n",
       "      <td>8.823045e-08</td>\n",
       "      <td>1.042480e-07</td>\n",
       "      <td>6.215287e-16</td>\n",
       "      <td>2.235041e-15</td>\n",
       "      <td>6.775856e-16</td>\n",
       "      <td>0.918767</td>\n",
       "      <td>88.437439</td>\n",
       "      <td>0.977258</td>\n",
       "      <td>5.810547e-08</td>\n",
       "      <td>6.066895e-08</td>\n",
       "      <td>5.810547e-08</td>\n",
       "      <td>5.981445e-08</td>\n",
       "    </tr>\n",
       "    <tr>\n",
       "      <th>2</th>\n",
       "      <td>OneDrive_MicronDRAM_Middle_20210121_DMprecisio...</td>\n",
       "      <td>3</td>\n",
       "      <td>1822_406</td>\n",
       "      <td>3.760308e-16</td>\n",
       "      <td>4.833639e-16</td>\n",
       "      <td>7.343602e-08</td>\n",
       "      <td>8.544922e-08</td>\n",
       "      <td>4.371143e-16</td>\n",
       "      <td>1.552986e-15</td>\n",
       "      <td>4.556179e-16</td>\n",
       "      <td>0.952964</td>\n",
       "      <td>108.097580</td>\n",
       "      <td>0.976303</td>\n",
       "      <td>5.639648e-08</td>\n",
       "      <td>5.895996e-08</td>\n",
       "      <td>5.810547e-08</td>\n",
       "      <td>5.895996e-08</td>\n",
       "    </tr>\n",
       "    <tr>\n",
       "      <th>3</th>\n",
       "      <td>OneDrive_MicronDRAM_Middle_20210121_DMprecisio...</td>\n",
       "      <td>4</td>\n",
       "      <td>2936_408</td>\n",
       "      <td>4.176498e-16</td>\n",
       "      <td>5.322844e-16</td>\n",
       "      <td>7.826976e-08</td>\n",
       "      <td>9.228516e-08</td>\n",
       "      <td>5.161244e-16</td>\n",
       "      <td>1.730457e-15</td>\n",
       "      <td>5.111099e-16</td>\n",
       "      <td>0.889308</td>\n",
       "      <td>67.035324</td>\n",
       "      <td>0.969492</td>\n",
       "      <td>5.725098e-08</td>\n",
       "      <td>5.810547e-08</td>\n",
       "      <td>5.810547e-08</td>\n",
       "      <td>5.810547e-08</td>\n",
       "    </tr>\n",
       "    <tr>\n",
       "      <th>4</th>\n",
       "      <td>OneDrive_MicronDRAM_Middle_20210121_DMprecisio...</td>\n",
       "      <td>5</td>\n",
       "      <td>3582_408</td>\n",
       "      <td>5.005226e-16</td>\n",
       "      <td>6.250143e-16</td>\n",
       "      <td>8.531303e-08</td>\n",
       "      <td>1.008301e-07</td>\n",
       "      <td>5.864469e-16</td>\n",
       "      <td>2.028111e-15</td>\n",
       "      <td>6.337763e-16</td>\n",
       "      <td>0.929411</td>\n",
       "      <td>69.503349</td>\n",
       "      <td>0.973031</td>\n",
       "      <td>5.895996e-08</td>\n",
       "      <td>6.066895e-08</td>\n",
       "      <td>5.810547e-08</td>\n",
       "      <td>5.810547e-08</td>\n",
       "    </tr>\n",
       "  </tbody>\n",
       "</table>\n",
       "</div>"
      ],
      "text/plain": [
       "                                           file_name label location (X_Y)  \\\n",
       "0  OneDrive_MicronDRAM_Middle_20210121_DMprecisio...     1        520_408   \n",
       "1  OneDrive_MicronDRAM_Middle_20210121_DMprecisio...     2       1542_408   \n",
       "2  OneDrive_MicronDRAM_Middle_20210121_DMprecisio...     3       1822_406   \n",
       "3  OneDrive_MicronDRAM_Middle_20210121_DMprecisio...     4       2936_408   \n",
       "4  OneDrive_MicronDRAM_Middle_20210121_DMprecisio...     5       3582_408   \n",
       "\n",
       "           area   area_fitted     perimeter  perimeter_Fitted  \\\n",
       "0  3.753007e-16  4.819036e-16  7.243492e-08      8.544922e-08   \n",
       "1  5.490780e-16  6.775856e-16  8.823045e-08      1.042480e-07   \n",
       "2  3.760308e-16  4.833639e-16  7.343602e-08      8.544922e-08   \n",
       "3  4.176498e-16  5.322844e-16  7.826976e-08      9.228516e-08   \n",
       "4  5.005226e-16  6.250143e-16  8.531303e-08      1.008301e-07   \n",
       "\n",
       "    areaEnclosingCircle   areaFitEllipse   areaMinAreaRectangle  \\\n",
       "0          4.261248e-16     1.546867e-15           4.556179e-16   \n",
       "1          6.215287e-16     2.235041e-15           6.775856e-16   \n",
       "2          4.371143e-16     1.552986e-15           4.556179e-16   \n",
       "3          5.161244e-16     1.730457e-15           5.111099e-16   \n",
       "4          5.864469e-16     2.028111e-15           6.337763e-16   \n",
       "\n",
       "    eccentricity   orientation   convexity      0degDiam     45degDiam  \\\n",
       "0       0.958101     70.295807    0.980916  5.639648e-08  5.725098e-08   \n",
       "1       0.918767     88.437439    0.977258  5.810547e-08  6.066895e-08   \n",
       "2       0.952964    108.097580    0.976303  5.639648e-08  5.895996e-08   \n",
       "3       0.889308     67.035324    0.969492  5.725098e-08  5.810547e-08   \n",
       "4       0.929411     69.503349    0.973031  5.895996e-08  6.066895e-08   \n",
       "\n",
       "      90degDiam    135degDiam  \n",
       "0  5.810547e-08  5.810547e-08  \n",
       "1  5.810547e-08  5.981445e-08  \n",
       "2  5.810547e-08  5.895996e-08  \n",
       "3  5.810547e-08  5.810547e-08  \n",
       "4  5.810547e-08  5.810547e-08  "
      ]
     },
     "execution_count": 159,
     "metadata": {},
     "output_type": "execute_result"
    }
   ],
   "source": [
    "for f in range(0, len(dfx[0])):\n",
    "    label_hole=[]\n",
    "    for i in range(0, len(dfx[0][f])):\n",
    "        label_hole.append(str(i+1))\n",
    "    lb = pd.Series(label_hole)\n",
    "    dfx[0][f].insert(1, \"label\", lb)\n",
    "    \n",
    "dfx[0][0].head()\n",
    "#dfx[0][1].head()\n",
    "#dfx[0][2].head()"
   ]
  },
  {
   "cell_type": "markdown",
   "metadata": {},
   "source": []
  },
  {
   "cell_type": "markdown",
   "metadata": {},
   "source": [
    "### 1.5.2 Label corresponding rows in other triplicate files<a id='2.6.2_Number_Of_Missing_Values_By_Column'></a>"
   ]
  },
  {
   "cell_type": "markdown",
   "metadata": {},
   "source": [
    "The three triplicate files are suppose to have same number of rows indicating that these three files together have three measurements for each channel hole structure.\n",
    "When we look athe number of rows in each of the tripicate files, they are not same. For example\n",
    "dfx[0][0] has 1539 rows\n",
    "dfx[1][0] has 1552 rows\n",
    "dfx[2][0] has 1553 rows\n",
    "In addition, there is no guarantee that 1539 rows in dfx[0][0] are all represented in dfx[1][0] and dfx[2][0]\n",
    "\n",
    "Known information: Column location(X_Y) gives the (x, y) coordinates of the approximate center of the holes.\n",
    "We know that these holes have not drifted more than a \"certain\" distance due to stage drift\n",
    "So, we should calculate the distance of every hole (say nearby few (~20) holes are OK as the CSV files are some what ordered in raster scan type) in dfx[0][0] from dfx[1][0] and dfx[2][0]. The nearest hole in dfx[1][0] and dfx[2][0] that is within \"certain\" distance will then be given same label as in dfx[0][0]"
   ]
  },
  {
   "cell_type": "markdown",
   "metadata": {},
   "source": [
    "### 1.5.3 Identify missing data<a id='2.6.3_Categorical_Features'></a>"
   ]
  },
  {
   "cell_type": "markdown",
   "metadata": {},
   "source": [
    "If the label is not present in all the files of the triplicate, then that row (channel hole) is considered missing crucial data for precision calculation and the corresponding label (and features) are not analyzed further."
   ]
  },
  {
   "cell_type": "code",
   "execution_count": 7,
   "metadata": {},
   "outputs": [
    {
     "data": {
      "text/html": [
       "<div>\n",
       "<style scoped>\n",
       "    .dataframe tbody tr th:only-of-type {\n",
       "        vertical-align: middle;\n",
       "    }\n",
       "\n",
       "    .dataframe tbody tr th {\n",
       "        vertical-align: top;\n",
       "    }\n",
       "\n",
       "    .dataframe thead th {\n",
       "        text-align: right;\n",
       "    }\n",
       "</style>\n",
       "<table border=\"1\" class=\"dataframe\">\n",
       "  <thead>\n",
       "    <tr style=\"text-align: right;\">\n",
       "      <th></th>\n",
       "      <th>Name</th>\n",
       "      <th>Region</th>\n",
       "      <th>state</th>\n",
       "    </tr>\n",
       "  </thead>\n",
       "  <tbody>\n",
       "    <tr>\n",
       "      <th>0</th>\n",
       "      <td>Alyeska Resort</td>\n",
       "      <td>Alaska</td>\n",
       "      <td>Alaska</td>\n",
       "    </tr>\n",
       "    <tr>\n",
       "      <th>1</th>\n",
       "      <td>Eaglecrest Ski Area</td>\n",
       "      <td>Alaska</td>\n",
       "      <td>Alaska</td>\n",
       "    </tr>\n",
       "    <tr>\n",
       "      <th>2</th>\n",
       "      <td>Hilltop Ski Area</td>\n",
       "      <td>Alaska</td>\n",
       "      <td>Alaska</td>\n",
       "    </tr>\n",
       "    <tr>\n",
       "      <th>3</th>\n",
       "      <td>Arizona Snowbowl</td>\n",
       "      <td>Arizona</td>\n",
       "      <td>Arizona</td>\n",
       "    </tr>\n",
       "    <tr>\n",
       "      <th>4</th>\n",
       "      <td>Sunrise Park Resort</td>\n",
       "      <td>Arizona</td>\n",
       "      <td>Arizona</td>\n",
       "    </tr>\n",
       "    <tr>\n",
       "      <th>...</th>\n",
       "      <td>...</td>\n",
       "      <td>...</td>\n",
       "      <td>...</td>\n",
       "    </tr>\n",
       "    <tr>\n",
       "      <th>325</th>\n",
       "      <td>Meadowlark Ski Lodge</td>\n",
       "      <td>Wyoming</td>\n",
       "      <td>Wyoming</td>\n",
       "    </tr>\n",
       "    <tr>\n",
       "      <th>326</th>\n",
       "      <td>Sleeping Giant Ski Resort</td>\n",
       "      <td>Wyoming</td>\n",
       "      <td>Wyoming</td>\n",
       "    </tr>\n",
       "    <tr>\n",
       "      <th>327</th>\n",
       "      <td>Snow King Resort</td>\n",
       "      <td>Wyoming</td>\n",
       "      <td>Wyoming</td>\n",
       "    </tr>\n",
       "    <tr>\n",
       "      <th>328</th>\n",
       "      <td>Snowy Range Ski &amp; Recreation Area</td>\n",
       "      <td>Wyoming</td>\n",
       "      <td>Wyoming</td>\n",
       "    </tr>\n",
       "    <tr>\n",
       "      <th>329</th>\n",
       "      <td>White Pine Ski Area</td>\n",
       "      <td>Wyoming</td>\n",
       "      <td>Wyoming</td>\n",
       "    </tr>\n",
       "  </tbody>\n",
       "</table>\n",
       "<p>330 rows × 3 columns</p>\n",
       "</div>"
      ],
      "text/plain": [
       "                                  Name   Region    state\n",
       "0                       Alyeska Resort   Alaska   Alaska\n",
       "1                  Eaglecrest Ski Area   Alaska   Alaska\n",
       "2                     Hilltop Ski Area   Alaska   Alaska\n",
       "3                     Arizona Snowbowl  Arizona  Arizona\n",
       "4                  Sunrise Park Resort  Arizona  Arizona\n",
       "..                                 ...      ...      ...\n",
       "325               Meadowlark Ski Lodge  Wyoming  Wyoming\n",
       "326          Sleeping Giant Ski Resort  Wyoming  Wyoming\n",
       "327                   Snow King Resort  Wyoming  Wyoming\n",
       "328  Snowy Range Ski & Recreation Area  Wyoming  Wyoming\n",
       "329                White Pine Ski Area  Wyoming  Wyoming\n",
       "\n",
       "[330 rows x 3 columns]"
      ]
     },
     "execution_count": 7,
     "metadata": {},
     "output_type": "execute_result"
    }
   ],
   "source": []
  },
  {
   "cell_type": "markdown",
   "metadata": {},
   "source": [
    "You saw earlier on that these three columns had no missing values. But are there any other issues with these columns? Sensible questions to ask here include:\n",
    "\n",
    "* Is `Name` (or at least a combination of Name/Region/State) unique?\n",
    "* Is `Region` always the same as `state`?"
   ]
  },
  {
   "cell_type": "markdown",
   "metadata": {},
   "source": [
    "#### 2.6.3.1 Unique Resort Names<a id='2.6.3.1_Unique_Resort_Names'></a>"
   ]
  },
  {
   "cell_type": "code",
   "execution_count": 8,
   "metadata": {},
   "outputs": [
    {
     "data": {
      "text/plain": [
       "Crystal Mountain          2\n",
       "Snow Creek                1\n",
       "Winterplace Ski Resort    1\n",
       "Big Boulder               1\n",
       "Holiday Valley            1\n",
       "Name: Name, dtype: int64"
      ]
     },
     "execution_count": 8,
     "metadata": {},
     "output_type": "execute_result"
    }
   ],
   "source": [
    "#Code task 7#\n",
    "#Use pandas' Series method `value_counts` to find any duplicated resort names\n",
    "ski_data['Name'].value_counts().head()"
   ]
  },
  {
   "cell_type": "markdown",
   "metadata": {},
   "source": [
    "You have a duplicated resort name: Crystal Mountain."
   ]
  },
  {
   "cell_type": "markdown",
   "metadata": {},
   "source": [
    "**Q: 1** Is this resort duplicated if you take into account Region and/or state as well?"
   ]
  },
  {
   "cell_type": "code",
   "execution_count": 9,
   "metadata": {},
   "outputs": [
    {
     "data": {
      "text/plain": [
       "Bryce Resort, Virginia                         1\n",
       "Nubs Nob Ski Area, Michigan                    1\n",
       "Donner Ski Ranch, Sierra Nevada                1\n",
       "Elm Creek Winter Recreation Area, Minnesota    1\n",
       "Yawgoo Valley, Rhode Island                    1\n",
       "dtype: int64"
      ]
     },
     "execution_count": 9,
     "metadata": {},
     "output_type": "execute_result"
    }
   ],
   "source": [
    "#Code task 8#\n",
    "#Concatenate the string columns 'Name' and 'Region' and count the values again (as above)\n",
    "(ski_data[\"Name\"] + ', ' + ski_data[\"Region\"]).value_counts().head()"
   ]
  },
  {
   "cell_type": "code",
   "execution_count": 10,
   "metadata": {},
   "outputs": [
    {
     "data": {
      "text/plain": [
       "Bryce Resort, Virginia                         1\n",
       "Big Mountain Resort, Montana                   1\n",
       "Monarch Mountain, Colorado                     1\n",
       "Elm Creek Winter Recreation Area, Minnesota    1\n",
       "Sugar Bowl Resort, California                  1\n",
       "dtype: int64"
      ]
     },
     "execution_count": 10,
     "metadata": {},
     "output_type": "execute_result"
    }
   ],
   "source": [
    "#Code task 9#\n",
    "#Concatenate 'Name' and 'state' and count the values again (as above)\n",
    "(ski_data[\"Name\"] + ', ' + ski_data[\"state\"]).value_counts().head()"
   ]
  },
  {
   "cell_type": "code",
   "execution_count": 11,
   "metadata": {
    "scrolled": true
   },
   "outputs": [
    {
     "ename": "SyntaxError",
     "evalue": "invalid syntax (<ipython-input-11-8a6568d3dafb>, line 1)",
     "output_type": "error",
     "traceback": [
      "\u001b[1;36m  File \u001b[1;32m\"<ipython-input-11-8a6568d3dafb>\"\u001b[1;36m, line \u001b[1;32m1\u001b[0m\n\u001b[1;33m    **NB** because you know `value_counts()` sorts descending, you can use the `head()` method and know the rest of the counts must be 1.\u001b[0m\n\u001b[1;37m    ^\u001b[0m\n\u001b[1;31mSyntaxError\u001b[0m\u001b[1;31m:\u001b[0m invalid syntax\n"
     ]
    }
   ],
   "source": [
    "**NB** because you know `value_counts()` sorts descending, you can use the `head()` method and know the rest of the counts must be 1."
   ]
  },
  {
   "cell_type": "markdown",
   "metadata": {},
   "source": [
    "**A: 1** Your answer here"
   ]
  },
  {
   "cell_type": "code",
   "execution_count": null,
   "metadata": {},
   "outputs": [],
   "source": [
    "ski_data[ski_data['Name'] == 'Crystal Mountain']"
   ]
  },
  {
   "cell_type": "markdown",
   "metadata": {},
   "source": [
    "So there are two Crystal Mountain resorts, but they are clearly two different resorts in two different states. This is a powerful signal that you have unique records on each row."
   ]
  },
  {
   "cell_type": "markdown",
   "metadata": {},
   "source": [
    "#### 2.6.3.2 Region And State<a id='2.6.3.2_Region_And_State'></a>"
   ]
  },
  {
   "cell_type": "markdown",
   "metadata": {},
   "source": [
    "What's the relationship between region and state?"
   ]
  },
  {
   "cell_type": "markdown",
   "metadata": {},
   "source": [
    "You know they are the same in many cases (e.g. both the Region and the state are given as 'Michigan'). In how many cases do they differ?"
   ]
  },
  {
   "cell_type": "code",
   "execution_count": null,
   "metadata": {},
   "outputs": [],
   "source": [
    "#Code task 10#\n",
    "#Calculate the number of times Region does not equal state\n",
    "(ski_data.Region != ski_data.state).count()"
   ]
  },
  {
   "cell_type": "markdown",
   "metadata": {},
   "source": [
    "You know what a state is. What is a region? You can tabulate the distinct values along with their respective frequencies using `value_counts()`."
   ]
  },
  {
   "cell_type": "code",
   "execution_count": null,
   "metadata": {},
   "outputs": [],
   "source": [
    "ski_data['Region'].value_counts()"
   ]
  },
  {
   "cell_type": "markdown",
   "metadata": {},
   "source": [
    "A casual inspection by eye reveals some non-state names such as Sierra Nevada, Salt Lake City, and Northern California. Tabulate the differences between Region and state. On a note regarding scaling to larger data sets, you might wonder how you could spot such cases when presented with millions of rows. This is an interesting point. Imagine you have access to a database with a Region and state column in a table and there are millions of rows. You wouldn't eyeball all the rows looking for differences! Bear in mind that our first interest lies in establishing the answer to the question \"Are they always the same?\" One approach might be to ask the database to return records where they differ, but limit the output to 10 rows. If there were differences, you'd only get up to 10 results, and so you wouldn't know whether you'd located all differences, but you'd know that there were 'a nonzero number' of differences. If you got an empty result set back, then you would know that the two columns always had the same value. At the risk of digressing, some values in one column only might be NULL (missing) and different databases treat NULL differently, so be aware that on many an occasion a seamingly 'simple' question gets very interesting to answer very quickly!"
   ]
  },
  {
   "cell_type": "code",
   "execution_count": null,
   "metadata": {},
   "outputs": [],
   "source": [
    "#Code task 11#\n",
    "#Filter the ski_data dataframe for rows where 'Region' and 'state' are different,\n",
    "#group that by 'state' and perform `value_counts` on the 'Region'\n",
    "(ski_data[ski_data.Region != ski_data.state]\n",
    " .groupby('state')['Region']\n",
    " .value_counts())\n"
   ]
  },
  {
   "cell_type": "markdown",
   "metadata": {},
   "source": [
    "The vast majority of the differences are in California, with most Regions being called Sierra Nevada and just one referred to as Northern California."
   ]
  },
  {
   "cell_type": "markdown",
   "metadata": {},
   "source": [
    "#### 2.6.3.3 Number of distinct regions and states<a id='2.6.3.3_Number_of_distinct_regions_and_states'></a>"
   ]
  },
  {
   "cell_type": "code",
   "execution_count": null,
   "metadata": {},
   "outputs": [],
   "source": [
    "#Code task 12#\n",
    "#Select the 'Region' and 'state' columns from ski_data and use the `nunique` method to calculate\n",
    "#the number of unique values in each\n",
    "\n",
    "ski_data[[\"Region\",\"state\"]].nunique()"
   ]
  },
  {
   "cell_type": "code",
   "execution_count": null,
   "metadata": {},
   "outputs": [],
   "source": [
    "print(ski_data)"
   ]
  },
  {
   "cell_type": "markdown",
   "metadata": {},
   "source": [
    "Because a few states are split across multiple named regions, there are slightly more unique regions than states."
   ]
  },
  {
   "cell_type": "markdown",
   "metadata": {},
   "source": [
    "#### 2.6.3.4 Distribution Of Resorts By Region And State<a id='2.6.3.4_Distribution_Of_Resorts_By_Region_And_State'></a>"
   ]
  },
  {
   "cell_type": "markdown",
   "metadata": {},
   "source": [
    "If this is your first time using [matplotlib](https://matplotlib.org/3.2.2/index.html)'s [subplots](https://matplotlib.org/3.2.2/api/_as_gen/matplotlib.pyplot.subplots.html), you may find the online documentation useful."
   ]
  },
  {
   "cell_type": "code",
   "execution_count": null,
   "metadata": {},
   "outputs": [],
   "source": [
    "#Code task 13#\n",
    "#Create two subplots on 1 row and 2 columns with a figsize of (12, 8)\n",
    "fig, ax = plt.subplots(1, 2, figsize=(12, 8))\n",
    "#Specify a horizontal barplot ('barh') as kind of plot (kind=)\n",
    "ski_data.Region.value_counts().plot(kind=\"barh\", ax=ax[0])\n",
    "#Give the plot a helpful title of 'Region'\n",
    "ax[0].set_title(\"Region\")\n",
    "#Label the xaxis 'Count'\n",
    "ax[0].set_xlabel(\"Count\")\n",
    "#Specify a horizontal barplot ('barh') as kind of plot (kind=)\n",
    "ski_data.state.value_counts().plot(kind=\"barh\", ax=ax[1])\n",
    "#Give the plot a helpful title of 'state'\n",
    "ax[1].set_title(\"state\")\n",
    "#Label the xaxis 'Count'\n",
    "ax[1].set_xlabel(\"Count\")\n",
    "#Give the subplots a little \"breathing room\" with a wspace of 0.5\n",
    "plt.subplots_adjust(wspace=0.5);\n",
    "#You're encouraged to explore a few different figure sizes, orientations, and spacing here\n",
    "# as the importance of easy-to-read and informative figures is frequently understated\n",
    "# and you will find the ability to tweak figures invaluable later on"
   ]
  },
  {
   "cell_type": "markdown",
   "metadata": {},
   "source": [
    "How's your geography? Looking at the distribution of States, you see New York accounting for the majority of resorts. Our target resort is in Montana, which comes in at 13th place. You should think carefully about how, or whether, you use this information. Does New York command a premium because of its proximity to population? Even if a resort's State were a useful predictor of ticket price, your main interest lies in Montana. Would you want a model that is skewed for accuracy by New York? Should you just filter for Montana and create a Montana-specific model? This would slash your available data volume. Your problem task includes the contextual insight that the data are for resorts all belonging to the same market share. This suggests one might expect prices to be similar amongst them. You can look into this. A boxplot grouped by State is an ideal way to quickly compare prices. Another side note worth bringing up here is that, in reality, the best approach here definitely would include consulting with the client or other domain expert. They might know of good reasons for treating states equivalently or differently. The data scientist is rarely the final arbiter of such a decision. But here, you'll see if we can find any supporting evidence for treating states the same or differently."
   ]
  },
  {
   "cell_type": "markdown",
   "metadata": {},
   "source": [
    "#### 2.6.3.5 Distribution Of Ticket Price By State<a id='2.6.3.5_Distribution_Of_Ticket_Price_By_State'></a>"
   ]
  },
  {
   "cell_type": "markdown",
   "metadata": {},
   "source": [
    "Our primary focus is our Big Mountain resort, in Montana. Does the state give you any clues to help decide what your primary target response feature should be (weekend or weekday ticket prices)?"
   ]
  },
  {
   "cell_type": "markdown",
   "metadata": {},
   "source": [
    "##### 2.6.3.5.1 Average weekend and weekday price by state<a id='2.6.3.5.1_Average_weekend_and_weekday_price_by_state'></a>"
   ]
  },
  {
   "cell_type": "code",
   "execution_count": 19,
   "metadata": {},
   "outputs": [
    {
     "data": {
      "text/html": [
       "<div>\n",
       "<style scoped>\n",
       "    .dataframe tbody tr th:only-of-type {\n",
       "        vertical-align: middle;\n",
       "    }\n",
       "\n",
       "    .dataframe tbody tr th {\n",
       "        vertical-align: top;\n",
       "    }\n",
       "\n",
       "    .dataframe thead th {\n",
       "        text-align: right;\n",
       "    }\n",
       "</style>\n",
       "<table border=\"1\" class=\"dataframe\">\n",
       "  <thead>\n",
       "    <tr style=\"text-align: right;\">\n",
       "      <th></th>\n",
       "      <th>AdultWeekday</th>\n",
       "      <th>AdultWeekend</th>\n",
       "    </tr>\n",
       "    <tr>\n",
       "      <th>state</th>\n",
       "      <th></th>\n",
       "      <th></th>\n",
       "    </tr>\n",
       "  </thead>\n",
       "  <tbody>\n",
       "    <tr>\n",
       "      <th>Alaska</th>\n",
       "      <td>47.333333</td>\n",
       "      <td>57.333333</td>\n",
       "    </tr>\n",
       "    <tr>\n",
       "      <th>Arizona</th>\n",
       "      <td>81.500000</td>\n",
       "      <td>83.500000</td>\n",
       "    </tr>\n",
       "    <tr>\n",
       "      <th>California</th>\n",
       "      <td>78.214286</td>\n",
       "      <td>81.416667</td>\n",
       "    </tr>\n",
       "    <tr>\n",
       "      <th>Colorado</th>\n",
       "      <td>90.714286</td>\n",
       "      <td>90.714286</td>\n",
       "    </tr>\n",
       "    <tr>\n",
       "      <th>Connecticut</th>\n",
       "      <td>47.800000</td>\n",
       "      <td>56.800000</td>\n",
       "    </tr>\n",
       "  </tbody>\n",
       "</table>\n",
       "</div>"
      ],
      "text/plain": [
       "             AdultWeekday  AdultWeekend\n",
       "state                                  \n",
       "Alaska          47.333333     57.333333\n",
       "Arizona         81.500000     83.500000\n",
       "California      78.214286     81.416667\n",
       "Colorado        90.714286     90.714286\n",
       "Connecticut     47.800000     56.800000"
      ]
     },
     "execution_count": 19,
     "metadata": {},
     "output_type": "execute_result"
    }
   ],
   "source": [
    "#Code task 14#\n",
    "# Calculate average weekday and weekend price by state and sort by the average of the two\n",
    "# Hint: use the pattern dataframe.groupby(<grouping variable>)[<list of columns>].mean()\n",
    "state_price_means = ski_data.groupby(\"state\")[[\"AdultWeekday\", \"AdultWeekend\"]].mean()\n",
    "state_price_means.head()"
   ]
  },
  {
   "cell_type": "code",
   "execution_count": 20,
   "metadata": {},
   "outputs": [
    {
     "data": {
      "image/png": "[encoded data removed]",
      "text/plain": [
       "<Figure size 720x720 with 1 Axes>"
      ]
     },
     "metadata": {
      "needs_background": "light"
     },
     "output_type": "display_data"
    }
   ],
   "source": [
    "# The next bit simply reorders the index by increasing average of weekday and weekend prices\n",
    "# Compare the index order you get from\n",
    "# state_price_means.index\n",
    "# with\n",
    "# state_price_means.mean(axis=1).sort_values(ascending=False).index\n",
    "# See how this expression simply sits within the reindex()\n",
    "(state_price_means.reindex(index=state_price_means.mean(axis=1)\n",
    "    .sort_values(ascending=False)\n",
    "    .index)\n",
    "    .plot(kind='barh', figsize=(10, 10), title='Average ticket price by State'))\n",
    "plt.xlabel('Price ($)');"
   ]
  },
  {
   "cell_type": "code",
   "execution_count": null,
   "metadata": {},
   "outputs": [],
   "source": [
    "The figure above represents a dataframe with two columns, one for the average prices of each kind of ticket. This tells you how the average ticket price varies from state to state. But can you get more insight into the difference in the distributions between states?"
   ]
  },
  {
   "cell_type": "code",
   "execution_count": null,
   "metadata": {},
   "outputs": [],
   "source": [
    "The figure above represents a dataframe with two columns, one for the average prices of each kind of ticket. This tells you how the average ticket price varies from state to state. But can you get more insight into the difference in the distributions between states"
   ]
  },
  {
   "cell_type": "code",
   "execution_count": null,
   "metadata": {},
   "outputs": [],
   "source": [
    "The figure above represents a dataframe with two columns, one for the average prices of each kind of ticket. This tells you how the average ticket price varies from state to state. But can you get more insight into the difference in the distributions between states"
   ]
  },
  {
   "cell_type": "code",
   "execution_count": null,
   "metadata": {},
   "outputs": [],
   "source": [
    "The figure above represents a dataframe with two columns, one for the average prices of each kind of ticket. This tells you how the average ticket price varies from state to state. But can you get more insight into the difference in the distributions between states"
   ]
  },
  {
   "cell_type": "code",
   "execution_count": null,
   "metadata": {},
   "outputs": [],
   "source": [
    "The figure above represents a dataframe with two columns, one for the average prices of each kind of ticket. This tells you how the average ticket price varies from state to state. But can you get more insight into the difference in the distributions between states"
   ]
  },
  {
   "cell_type": "code",
   "execution_count": null,
   "metadata": {},
   "outputs": [],
   "source": [
    "The figure above represents a dataframe with two columns, one for the average prices of each kind of ticket. This tells you how the average ticket price varies from state to state. But can you get more insight into the difference in the distributions between states"
   ]
  },
  {
   "cell_type": "code",
   "execution_count": null,
   "metadata": {},
   "outputs": [],
   "source": [
    "The figure above represents a dataframe with two columns, one for the average prices of each kind of ticket. This tells you how the average ticket price varies from state to state. But can you get more insight into the difference in the distributions between states"
   ]
  },
  {
   "cell_type": "code",
   "execution_count": null,
   "metadata": {},
   "outputs": [],
   "source": [
    "The figure above represents a dataframe with two columns, one for the average prices of each kind of ticket. This tells you how the average ticket price varies from state to state. But can you get more insight into the difference in the distributions between states"
   ]
  },
  {
   "cell_type": "markdown",
   "metadata": {},
   "source": [
    "##### 2.6.3.5.2 Distribution of weekday and weekend price by state<a id='2.6.3.5.2_Distribution_of_weekday_and_weekend_price_by_state'></a>"
   ]
  },
  {
   "cell_type": "markdown",
   "metadata": {},
   "source": [
    "Next, you can transform the data into a single column for price with a new categorical column that represents the ticket type."
   ]
  },
  {
   "cell_type": "code",
   "execution_count": 21,
   "metadata": {},
   "outputs": [],
   "source": [
    "#Code task 15#\n",
    "#Use the pd.melt function, pass in the ski_data columns 'state', 'AdultWeekday', and 'Adultweekend' only,\n",
    "#specify 'state' for `id_vars`\n",
    "#gather the ticket prices from the 'Adultweekday' and 'AdultWeekend' columns using the `value_vars` argument,\n",
    "#call the resultant price column 'Price' via the `value_name` argument,\n",
    "#name the weekday/weekend indicator column 'Ticket' via the `var_name` argument\n",
    "\n",
    "ticket_prices = pd.melt(ski_data[['state', 'AdultWeekday','AdultWeekend']], \n",
    "                        id_vars=['state'], \n",
    "                        var_name= 'Ticket', \n",
    "                        value_vars=['AdultWeekday','AdultWeekend'], \n",
    "                        value_name='Price')"
   ]
  },
  {
   "cell_type": "code",
   "execution_count": 22,
   "metadata": {},
   "outputs": [
    {
     "data": {
      "text/html": [
       "<div>\n",
       "<style scoped>\n",
       "    .dataframe tbody tr th:only-of-type {\n",
       "        vertical-align: middle;\n",
       "    }\n",
       "\n",
       "    .dataframe tbody tr th {\n",
       "        vertical-align: top;\n",
       "    }\n",
       "\n",
       "    .dataframe thead th {\n",
       "        text-align: right;\n",
       "    }\n",
       "</style>\n",
       "<table border=\"1\" class=\"dataframe\">\n",
       "  <thead>\n",
       "    <tr style=\"text-align: right;\">\n",
       "      <th></th>\n",
       "      <th>state</th>\n",
       "      <th>Ticket</th>\n",
       "      <th>Price</th>\n",
       "    </tr>\n",
       "  </thead>\n",
       "  <tbody>\n",
       "    <tr>\n",
       "      <th>0</th>\n",
       "      <td>Alaska</td>\n",
       "      <td>AdultWeekday</td>\n",
       "      <td>65.0</td>\n",
       "    </tr>\n",
       "    <tr>\n",
       "      <th>1</th>\n",
       "      <td>Alaska</td>\n",
       "      <td>AdultWeekday</td>\n",
       "      <td>47.0</td>\n",
       "    </tr>\n",
       "    <tr>\n",
       "      <th>2</th>\n",
       "      <td>Alaska</td>\n",
       "      <td>AdultWeekday</td>\n",
       "      <td>30.0</td>\n",
       "    </tr>\n",
       "    <tr>\n",
       "      <th>3</th>\n",
       "      <td>Arizona</td>\n",
       "      <td>AdultWeekday</td>\n",
       "      <td>89.0</td>\n",
       "    </tr>\n",
       "    <tr>\n",
       "      <th>4</th>\n",
       "      <td>Arizona</td>\n",
       "      <td>AdultWeekday</td>\n",
       "      <td>74.0</td>\n",
       "    </tr>\n",
       "  </tbody>\n",
       "</table>\n",
       "</div>"
      ],
      "text/plain": [
       "     state        Ticket  Price\n",
       "0   Alaska  AdultWeekday   65.0\n",
       "1   Alaska  AdultWeekday   47.0\n",
       "2   Alaska  AdultWeekday   30.0\n",
       "3  Arizona  AdultWeekday   89.0\n",
       "4  Arizona  AdultWeekday   74.0"
      ]
     },
     "execution_count": 22,
     "metadata": {},
     "output_type": "execute_result"
    }
   ],
   "source": [
    "ticket_prices.head()"
   ]
  },
  {
   "cell_type": "markdown",
   "metadata": {},
   "source": [
    "This is now in a format we can pass to [seaborn](https://seaborn.pydata.org/)'s [boxplot](https://seaborn.pydata.org/generated/seaborn.boxplot.html) function to create boxplots of the ticket price distributions for each ticket type for each state."
   ]
  },
  {
   "cell_type": "code",
   "execution_count": 25,
   "metadata": {},
   "outputs": [
    {
     "data": {
      "text/plain": [
       "pandas.core.frame.DataFrame"
      ]
     },
     "execution_count": 25,
     "metadata": {},
     "output_type": "execute_result"
    }
   ],
   "source": [
    "type(ticket_prices)"
   ]
  },
  {
   "cell_type": "code",
   "execution_count": 24,
   "metadata": {},
   "outputs": [
    {
     "data": {
      "image/png": "[encoded data removed]",
      "text/plain": [
       "<Figure size 864x576 with 1 Axes>"
      ]
     },
     "metadata": {
      "needs_background": "light"
     },
     "output_type": "display_data"
    }
   ],
   "source": [
    "#Code task 16#\n",
    "#Create a seaborn boxplot of the ticket price dataframe we created above,\n",
    "#with 'state' on the x-axis, 'Price' as the y-value, and a hue that indicates 'Ticket'\n",
    "#This will use boxplot's x, y, hue, and data arguments.\n",
    "\n",
    "plt.subplots(figsize=(12, 8))\n",
    "sns.boxplot(x=\"state\", y=\"Price\", hue=\"Ticket\", data=ticket_prices)\n",
    "plt.xticks(rotation='vertical')\n",
    "plt.ylabel('Price ($)')\n",
    "plt.xlabel('State');"
   ]
  },
  {
   "cell_type": "markdown",
   "metadata": {},
   "source": [
    "Aside from some relatively expensive ticket prices in California, Colorado, and Utah, most prices appear to lie in a broad band from around 25 to over 100 dollars. Some States show more variability than others. Montana and South Dakota, for example, both show fairly small variability as well as matching weekend and weekday ticket prices. Nevada and Utah, on the other hand, show the most range in prices. Some States, notably North Carolina and Virginia, have weekend prices far higher than weekday prices. You could be inspired from this exploration to consider a few potential groupings of resorts, those with low spread, those with lower averages, and those that charge a premium for weekend tickets. However, you're told that you are taking all resorts to be part of the same market share, you  could argue against further segment the resorts. Nevertheless, ways to consider using the State information in your modelling include:\n",
    "\n",
    "* disregard State completely\n",
    "* retain all State information\n",
    "* retain State in the form of Montana vs not Montana, as our target resort is in Montana\n",
    "\n",
    "You've also noted another effect above: some States show a marked difference between weekday and weekend ticket prices. It may make sense to allow a model to take into account not just State but also weekend vs weekday."
   ]
  },
  {
   "cell_type": "markdown",
   "metadata": {},
   "source": [
    "Thus we currently have two main questions you want to resolve:\n",
    "\n",
    "* What do you do about the two types of ticket price?\n",
    "* What do you do about the state information?"
   ]
  },
  {
   "cell_type": "markdown",
   "metadata": {},
   "source": [
    "### 2.6.4 Numeric Features<a id='2.6.4_Numeric_Features'></a>"
   ]
  },
  {
   "cell_type": "code",
   "execution_count": null,
   "metadata": {},
   "outputs": [],
   "source": [
    "Having decided to reserve judgement on how exactly you utilize the State, turn your attention to cleaning the numeric features."
   ]
  },
  {
   "cell_type": "markdown",
   "metadata": {},
   "source": [
    "#### 2.6.4.1 Numeric data summary<a id='2.6.4.1_Numeric_data_summary'></a>"
   ]
  },
  {
   "cell_type": "code",
   "execution_count": null,
   "metadata": {},
   "outputs": [],
   "source": [
    "#Code task 17#\n",
    "#Call ski_data's `describe` method for a statistical summary of the numerical columns\n",
    "#Hint: there are fewer summary stat columns than features, so displaying the transpose\n",
    "#will be useful again\n",
    "ski_data.describe().T"
   ]
  },
  {
   "cell_type": "markdown",
   "metadata": {},
   "source": [
    "Recall you're missing the ticket prices for some 16% of resorts. This is a fundamental problem that means you simply lack the required data for those resorts and will have to drop those records. But you may have a weekend price and not a weekday price, or vice versa. You want to keep any price you have."
   ]
  },
  {
   "cell_type": "code",
   "execution_count": null,
   "metadata": {},
   "outputs": [],
   "source": [
    "missing_price = ski_data[['AdultWeekend', 'AdultWeekday']].isnull().sum(axis=1)\n",
    "missing_price.value_counts()/len(missing_price) * 100"
   ]
  },
  {
   "cell_type": "markdown",
   "metadata": {},
   "source": [
    "Just over 82% of resorts have no missing ticket price, 3% are missing one value, and 14% are missing both. You will definitely want to drop the records for which you have no price information, however you will not do so just yet. There may still be useful information about the distributions of other features in that 14% of the data."
   ]
  },
  {
   "cell_type": "markdown",
   "metadata": {},
   "source": [
    "#### 2.6.4.2 Distributions Of Feature Values<a id='2.6.4.2_Distributions_Of_Feature_Values'></a>"
   ]
  },
  {
   "cell_type": "markdown",
   "metadata": {},
   "source": [
    "Note that, although we are still in the 'data wrangling and cleaning' phase rather than exploratory data analysis, looking at distributions of features is immensely useful in getting a feel for whether the values look sensible and whether there are any obvious outliers to investigate. Some exploratory data analysis belongs here, and data wrangling will inevitably occur later on. It's more a matter of emphasis. Here, we're interesting in focusing on whether distributions look plausible or wrong. Later on, we're more interested in relationships and patterns."
   ]
  },
  {
   "cell_type": "code",
   "execution_count": null,
   "metadata": {},
   "outputs": [],
   "source": [
    "#Code task 18#\n",
    "#Call ski_data's `hist` method to plot histograms of each of the numeric features\n",
    "#Try passing it an argument figsize=(15,10)\n",
    "#Try calling plt.subplots_adjust() with an argument hspace=0.5 to adjust the spacing\n",
    "#It's important you create legible and easy-to-read plots\n",
    "ski_data.hist(figsize=(15,10))\n",
    "plt.subplots_adjust(hspace=0.5);\n",
    "#Hint: notice how the terminating ';' \"swallows\" some messy output and leads to a tidier notebook"
   ]
  },
  {
   "cell_type": "markdown",
   "metadata": {},
   "source": [
    "What features do we have possible cause for concern about and why?\n",
    "\n",
    "* SkiableTerrain_ac because values are clustered down the low end,\n",
    "* Snow Making_ac for the same reason,\n",
    "* fastEight because all but one value is 0 so it has very little variance, and half the values are missing,\n",
    "* fastSixes raises an amber flag; it has more variability, but still mostly 0,\n",
    "* trams also may get an amber flag for the same reason,\n",
    "* yearsOpen because most values are low but it has a maximum of 2019, which strongly suggests someone recorded calendar year rather than number of years."
   ]
  },
  {
   "cell_type": "markdown",
   "metadata": {},
   "source": [
    "##### 2.6.4.2.1 SkiableTerrain_ac<a id='2.6.4.2.1_SkiableTerrain_ac'></a>"
   ]
  },
  {
   "cell_type": "code",
   "execution_count": null,
   "metadata": {},
   "outputs": [],
   "source": [
    "#Code task 19#\n",
    "#Filter the 'SkiableTerrain_ac' column to print the values greater than 10000\n",
    "ski_data[ski_data[\"SkiableTerrain_ac\"]>10000]"
   ]
  },
  {
   "cell_type": "markdown",
   "metadata": {},
   "source": [
    "**Q: 2** One resort has an incredibly large skiable terrain area! Which is it?"
   ]
  },
  {
   "cell_type": "code",
   "execution_count": null,
   "metadata": {},
   "outputs": [],
   "source": [
    "#Code task 20#\n",
    "#Now you know there's only one, print the whole row to investigate all values, including seeing the resort name\n",
    "#Hint: don't forget the transpose will be helpful here\n",
    "ski_data[ski_data[\"SkiableTerrain_ac\"] > 10000].T"
   ]
  },
  {
   "cell_type": "markdown",
   "metadata": {},
   "source": [
    "**A: 2** Your answer here"
   ]
  },
  {
   "cell_type": "markdown",
   "metadata": {},
   "source": [
    "But what can you do when you have one record that seems highly suspicious?"
   ]
  },
  {
   "cell_type": "markdown",
   "metadata": {},
   "source": [
    "You can see if your data are correct. Search for \"silverton mountain skiable area\". If you do this, you get some [useful information](https://www.google.com/search?q=silverton+mountain+skiable+area)."
   ]
  },
  {
   "cell_type": "markdown",
   "metadata": {},
   "source": [
    "![Silverton Mountain information](images/silverton_mountain_info.png)"
   ]
  },
  {
   "cell_type": "markdown",
   "metadata": {},
   "source": [
    "You can spot check data. You see your top and base elevation values agree, but the skiable area is very different. Your suspect value is 26819, but the value you've just looked up is 1819. The last three digits agree. This sort of error could have occured in transmission or some editing or transcription stage. You could plausibly replace the suspect value with the one you've just obtained. Another cautionary note to make here is that although you're doing this in order to progress with your analysis, this is most definitely an issue that should have been raised and fed back to the client or data originator as a query. You should view this \"data correction\" step as a means to continue (documenting it carefully as you do in this notebook) rather than an ultimate decision as to what is correct."
   ]
  },
  {
   "cell_type": "code",
   "execution_count": null,
   "metadata": {},
   "outputs": [],
   "source": [
    "#Code task 21#\n",
    "#Use the .loc accessor to print the 'SkiableTerrain_ac' value only for this resort\n",
    "ski_data.loc[39, 'SkiableTerrain_ac']"
   ]
  },
  {
   "cell_type": "code",
   "execution_count": null,
   "metadata": {},
   "outputs": [],
   "source": [
    "#Code task 22#\n",
    "#Use the .loc accessor again to modify this value with the correct value of 1819\n",
    "ski_data.loc[39, 'SkiableTerrain_ac'] = 1819"
   ]
  },
  {
   "cell_type": "code",
   "execution_count": null,
   "metadata": {},
   "outputs": [],
   "source": [
    "#Code task 23#\n",
    "#Use the .loc accessor a final time to verify that the value has been modified\n",
    "ski_data.loc[39, 'SkiableTerrain_ac']"
   ]
  },
  {
   "cell_type": "markdown",
   "metadata": {},
   "source": [
    "**NB whilst you may become suspicious about your data quality, and you know you have missing values, you will not here dive down the rabbit hole of checking all values or web scraping to replace missing values.**"
   ]
  },
  {
   "cell_type": "markdown",
   "metadata": {},
   "source": [
    "What does the distribution of skiable area look like now?"
   ]
  },
  {
   "cell_type": "code",
   "execution_count": null,
   "metadata": {},
   "outputs": [],
   "source": [
    "ski_data.SkiableTerrain_ac.hist(bins=30)\n",
    "plt.xlabel('SkiableTerrain_ac')\n",
    "plt.ylabel('Count')\n",
    "plt.title('Distribution of skiable area (acres) after replacing erroneous value');"
   ]
  },
  {
   "cell_type": "markdown",
   "metadata": {},
   "source": [
    "You now see a rather long tailed distribution. You may wonder about the now most extreme value that is above 8000, but similarly you may also wonder about the value around 7000. If you wanted to spend more time manually checking values you could, but leave this for now. The above distribution is plausible."
   ]
  },
  {
   "cell_type": "markdown",
   "metadata": {},
   "source": [
    "##### 2.6.4.2.2 Snow Making_ac<a id='2.6.4.2.2_Snow_Making_ac'></a>"
   ]
  },
  {
   "cell_type": "code",
   "execution_count": null,
   "metadata": {},
   "outputs": [],
   "source": [
    "ski_data['Snow Making_ac'][ski_data['Snow Making_ac'] > 1000]"
   ]
  },
  {
   "cell_type": "code",
   "execution_count": null,
   "metadata": {},
   "outputs": [],
   "source": [
    "ski_data[ski_data['Snow Making_ac'] > 3000].T"
   ]
  },
  {
   "cell_type": "markdown",
   "metadata": {},
   "source": [
    "You can adopt a similar approach as for the suspect skiable area value and do some spot checking. To save time, here is a link to the website for [Heavenly Mountain Resort](https://www.skiheavenly.com/the-mountain/about-the-mountain/mountain-info.aspx). From this you can glean that you have values for skiable terrain that agree. Furthermore, you can read that snowmaking covers 60% of the trails."
   ]
  },
  {
   "cell_type": "markdown",
   "metadata": {},
   "source": [
    "What, then, is your rough guess for the area covered by snowmaking?"
   ]
  },
  {
   "cell_type": "code",
   "execution_count": null,
   "metadata": {},
   "outputs": [],
   "source": [
    ".6 * 4800"
   ]
  },
  {
   "cell_type": "markdown",
   "metadata": {},
   "source": [
    "This is less than the value of 3379 in your data so you may have a judgement call to make. However, notice something else. You have no ticket pricing information at all for this resort. Any further effort spent worrying about values for this resort will be wasted. You'll simply be dropping the entire row!"
   ]
  },
  {
   "cell_type": "markdown",
   "metadata": {},
   "source": [
    "##### 2.6.4.2.3 fastEight<a id='2.6.4.2.3_fastEight'></a>"
   ]
  },
  {
   "cell_type": "markdown",
   "metadata": {},
   "source": [
    "Look at the different fastEight values more closely:"
   ]
  },
  {
   "cell_type": "code",
   "execution_count": null,
   "metadata": {},
   "outputs": [],
   "source": [
    "ski_data.fastEight.value_counts()"
   ]
  },
  {
   "cell_type": "markdown",
   "metadata": {},
   "source": [
    "Drop the fastEight column in its entirety; half the values are missing and all but the others are the value zero. There is essentially no information in this column."
   ]
  },
  {
   "cell_type": "code",
   "execution_count": null,
   "metadata": {},
   "outputs": [],
   "source": [
    "#Code task 24#\n",
    "#Drop the 'fastEight' column from ski_data. Use inplace=True\n",
    "ski_data.drop(columns=\"fastEight\", inplace=True)"
   ]
  },
  {
   "cell_type": "markdown",
   "metadata": {},
   "source": [
    "What about yearsOpen? How many resorts have purportedly been open for more than 100 years?"
   ]
  },
  {
   "cell_type": "code",
   "execution_count": null,
   "metadata": {},
   "outputs": [],
   "source": [
    "#Code task 25#\n",
    "#Filter the 'yearsOpen' column for values greater than 100\n",
    "ski_data[ski_data[\"yearsOpen\"] > 100]"
   ]
  },
  {
   "cell_type": "markdown",
   "metadata": {},
   "source": [
    "Okay, one seems to have been open for 104 years. But beyond that, one is down as having been open for 2019 years. This is wrong! What shall you do about this?"
   ]
  },
  {
   "cell_type": "markdown",
   "metadata": {},
   "source": [
    "What does the distribution of yearsOpen look like if you exclude just the obviously wrong one?"
   ]
  },
  {
   "cell_type": "code",
   "execution_count": null,
   "metadata": {},
   "outputs": [],
   "source": [
    "#Code task 26#\n",
    "#Call the hist method on 'yearsOpen' after filtering for values under 1000\n",
    "#Pass the argument bins=30 to hist(), but feel free to explore other values\n",
    "\n",
    "\n",
    "ski_data['yearsOpen'].loc[ski_data.yearsOpen < 100].hist(bins=30)\n",
    "plt.xlabel('Years open')\n",
    "plt.ylabel('Count')\n",
    "plt.title('Distribution of years open excluding 2019');"
   ]
  },
  {
   "cell_type": "markdown",
   "metadata": {},
   "source": [
    "The above distribution of years seems entirely plausible, including the 104 year value. You can certainly state that no resort will have been open for 2019 years! It likely means the resort opened in 2019. It could also mean the resort is due to open in 2019. You don't know when these data were gathered!"
   ]
  },
  {
   "cell_type": "markdown",
   "metadata": {},
   "source": [
    "Let's review the summary statistics for the years under 1000."
   ]
  },
  {
   "cell_type": "code",
   "execution_count": null,
   "metadata": {},
   "outputs": [],
   "source": [
    "ski_data.yearsOpen[ski_data.yearsOpen < 1000].describe()"
   ]
  },
  {
   "cell_type": "markdown",
   "metadata": {},
   "source": [
    "The smallest number of years open otherwise is 6. You can't be sure whether this resort in question has been open zero years or one year and even whether the numbers are projections or actual. In any case, you would be adding a new youngest resort so it feels best to simply drop this row."
   ]
  },
  {
   "cell_type": "code",
   "execution_count": null,
   "metadata": {},
   "outputs": [],
   "source": [
    "ski_data = ski_data[ski_data.yearsOpen < 1000]"
   ]
  },
  {
   "cell_type": "markdown",
   "metadata": {},
   "source": [
    "##### 2.6.4.2.4 fastSixes and Trams<a id='2.6.4.2.4_fastSixes_and_Trams'></a>"
   ]
  },
  {
   "cell_type": "markdown",
   "metadata": {},
   "source": [
    "The other features you had mild concern over, you will not investigate further. Perhaps take some care when using these features."
   ]
  },
  {
   "cell_type": "markdown",
   "metadata": {},
   "source": [
    "## 2.7 Derive State-wide Summary Statistics For Our Market Segment<a id='2.7_Derive_State-wide_Summary_Statistics_For_Our_Market_Segment'></a>"
   ]
  },
  {
   "cell_type": "markdown",
   "metadata": {},
   "source": [
    "You have, by this point removed one row, but it was for a resort that may not have opened yet, or perhaps in its first season. Using your business knowledge, you know that state-wide supply and demand of certain skiing resources may well factor into pricing strategies. Does a resort dominate the available night skiing in a state? Or does it account for a large proportion of the total skiable terrain or days open?\n",
    "\n",
    "If you want to add any features to your data that captures the state-wide market size, you should do this now, before dropping any more rows. In the next section, you'll drop rows with missing price information. Although you don't know what those resorts charge for their tickets, you do know the resorts exists and have been open for at least six years. Thus, you'll now calculate some state-wide summary statistics for later use."
   ]
  },
  {
   "cell_type": "markdown",
   "metadata": {},
   "source": [
    "Many features in your data pertain to chairlifts, that is for getting people around each resort. These aren't relevant, nor are the features relating to altitudes. Features that you may be interested in are:\n",
    "\n",
    "* TerrainParks\n",
    "* SkiableTerrain_ac\n",
    "* daysOpenLastYear\n",
    "* NightSkiing_ac\n",
    "\n",
    "When you think about it, these are features it makes sense to sum: the total number of terrain parks, the total skiable area, the total number of days open, and the total area available for night skiing. You might consider the total number of ski runs, but understand that the skiable area is more informative than just a number of runs."
   ]
  },
  {
   "cell_type": "markdown",
   "metadata": {},
   "source": [
    "A fairly new groupby behaviour is [named aggregation](https://pandas-docs.github.io/pandas-docs-travis/whatsnew/v0.25.0.html). This allows us to clearly perform the aggregations you want whilst also creating informative output column names."
   ]
  },
  {
   "cell_type": "code",
   "execution_count": null,
   "metadata": {},
   "outputs": [],
   "source": [
    "#Code task 27#\n",
    "#Add named aggregations for the sum of 'daysOpenLastYear', 'TerrainParks', and 'NightSkiing_ac'\n",
    "#call them 'state_total_days_open', 'state_total_terrain_parks', and 'state_total_nightskiing_ac',\n",
    "#respectively\n",
    "#Finally, add a call to the reset_index() method (we recommend you experiment with and without this to see\n",
    "#what it does)\n",
    "state_summary = ski_data.groupby('state').agg(\n",
    "    resorts_per_state=pd.NamedAgg(column='Name', aggfunc='size'), #could pick any column here\n",
    "    state_total_skiable_area_ac=pd.NamedAgg(column='SkiableTerrain_ac', aggfunc='sum'),\n",
    "    state_total_days_open=pd.NamedAgg(column=\"daysOpenLastYear\", aggfunc='sum'),\n",
    "    state_terrain_parks=pd.NamedAgg(column=\"TerrainParks\", aggfunc=\"sum\"),\n",
    "    state_total_nightskiing_ac=pd.NamedAgg(column=\"NightSkiing_ac\", aggfunc=\"sum\")).reset_index()\n",
    "state_summary.head()"
   ]
  },
  {
   "cell_type": "markdown",
   "metadata": {},
   "source": [
    "## 2.8 Drop Rows With No Price Data<a id='2.8_Drop_Rows_With_No_Price_Data'></a>"
   ]
  },
  {
   "cell_type": "markdown",
   "metadata": {},
   "source": [
    "You know there are two columns that refer to price: 'AdultWeekend' and 'AdultWeekday'. You can calculate the number of price values missing per row. This will obviously have to be either 0, 1, or 2, where 0 denotes no price values are missing and 2 denotes that both are missing."
   ]
  },
  {
   "cell_type": "code",
   "execution_count": null,
   "metadata": {},
   "outputs": [],
   "source": [
    "missing_price = ski_data[['AdultWeekend', 'AdultWeekday']].isnull().sum(axis=1)\n",
    "missing_price.value_counts()/len(missing_price) * 100"
   ]
  },
  {
   "cell_type": "markdown",
   "metadata": {},
   "source": [
    "About 14% of the rows have no price data. As the price is your target, these rows are of no use. Time to lose them."
   ]
  },
  {
   "cell_type": "code",
   "execution_count": null,
   "metadata": {},
   "outputs": [],
   "source": [
    "#Code task 28#\n",
    "#Use `missing_price` to remove rows from ski_data where both price values are missing\n",
    "ski_data = ski_data[ missing_price != 2]"
   ]
  },
  {
   "cell_type": "markdown",
   "metadata": {},
   "source": [
    "## 2.9 Review distributions<a id='2.9_Review_distributions'></a>"
   ]
  },
  {
   "cell_type": "code",
   "execution_count": null,
   "metadata": {},
   "outputs": [],
   "source": [
    "ski_data.hist(figsize=(15, 10))\n",
    "plt.subplots_adjust(hspace=0.5);"
   ]
  },
  {
   "cell_type": "markdown",
   "metadata": {},
   "source": [
    "These distributions are much better. There are clearly some skewed distributions, so keep an eye on `fastQuads`, `fastSixes`, and perhaps `trams`. These lack much variance away from 0 and may have a small number of relatively extreme values.  Models failing to rate a feature as important when domain knowledge tells you it should be is an issue to look out for, as is a model being overly influenced by some extreme values. If you build a good machine learning pipeline, hopefully it will be robust to such issues, but you may also wish to consider nonlinear transformations of features."
   ]
  },
  {
   "cell_type": "markdown",
   "metadata": {},
   "source": [
    "## 2.10 Population data<a id='2.10_Population_data'></a>"
   ]
  },
  {
   "cell_type": "markdown",
   "metadata": {},
   "source": [
    "Population and area data for the US states can be obtained from [wikipedia](https://simple.wikipedia.org/wiki/List_of_U.S._states). Listen, you should have a healthy concern about using data you \"found on the Internet\". Make sure it comes from a reputable source. This table of data is useful because it allows you to easily pull and incorporate an external data set. It also allows you to proceed with an analysis that includes state sizes and populations for your 'first cut' model. Be explicit about your source (we documented it here in this workflow) and ensure it is open to inspection. All steps are subject to review, and it may be that a client has a specific source of data they trust that you should use to rerun the analysis."
   ]
  },
  {
   "cell_type": "code",
   "execution_count": null,
   "metadata": {},
   "outputs": [],
   "source": [
    "#Code task 29#\n",
    "#Use pandas' `read_html` method to read the table from the URL below\n",
    "states_url = 'https://simple.wikipedia.org/w/index.php?title=List_of_U.S._states&oldid=7168473'\n",
    "usa_states = pd.read_html(states_url)"
   ]
  },
  {
   "cell_type": "code",
   "execution_count": null,
   "metadata": {},
   "outputs": [],
   "source": [
    "type(usa_states)"
   ]
  },
  {
   "cell_type": "code",
   "execution_count": null,
   "metadata": {},
   "outputs": [],
   "source": [
    "len(usa_states)"
   ]
  },
  {
   "cell_type": "code",
   "execution_count": null,
   "metadata": {},
   "outputs": [],
   "source": [
    "usa_states = usa_states[0]\n",
    "usa_states.head()"
   ]
  },
  {
   "cell_type": "markdown",
   "metadata": {},
   "source": [
    "Note, in even the last year, the capability of `pd.read_html()` has improved. The merged cells you see in the web table are now handled much more conveniently, with 'Phoenix' now being duplicated so the subsequent columns remain aligned. But check this anyway. If you extract the established date column, you should just get dates. Recall previously you used the `.loc` accessor, because you were using labels. Now you want to refer to a column by its index position and so use `.iloc`. For a discussion on the difference use cases of `.loc` and `.iloc` refer to the [pandas documentation](https://pandas.pydata.org/pandas-docs/stable/user_guide/indexing.html)."
   ]
  },
  {
   "cell_type": "code",
   "execution_count": null,
   "metadata": {},
   "outputs": [],
   "source": [
    "#Code task 30#\n",
    "#Use the iloc accessor to get the pandas Series for column number 4 from `usa_states`\n",
    "#It should be a column of dates\n",
    "established = usa_states.iloc[:, 4]"
   ]
  },
  {
   "cell_type": "code",
   "execution_count": null,
   "metadata": {},
   "outputs": [],
   "source": [
    "established"
   ]
  },
  {
   "cell_type": "markdown",
   "metadata": {},
   "source": [
    "Extract the state name, population, and total area (square miles) columns."
   ]
  },
  {
   "cell_type": "code",
   "execution_count": null,
   "metadata": {},
   "outputs": [],
   "source": [
    "#Code task 31#\n",
    "#Now use the iloc accessor again to extract columns 0, 5, and 6 and the dataframe's `copy()` method\n",
    "#Set the names of these extracted columns to 'state', 'state_population', and 'state_area_sq_miles',\n",
    "#respectively.\n",
    "usa_states_sub = usa_states.iloc[:, [0, 5, 6]].copy()\n",
    "usa_states_sub.columns = [\"state\", \"state_population\", \"state_area_sq_miles\"]\n",
    "usa_states_sub.head()"
   ]
  },
  {
   "cell_type": "markdown",
   "metadata": {},
   "source": [
    "Do you have all the ski data states accounted for?"
   ]
  },
  {
   "cell_type": "code",
   "execution_count": null,
   "metadata": {},
   "outputs": [],
   "source": [
    "#Code task 32#\n",
    "#Find the states in `state_summary` that are not in `usa_states_sub`; \n",
    "#Hint: set(list1) - set(list2) is an easy way to get items in list1 that are not in list2\n",
    "missing_states = set(state_summary[\"state\"]) - set(usa_states_sub.state)\n",
    "missing_states"
   ]
  },
  {
   "cell_type": "markdown",
   "metadata": {},
   "source": [
    "No?? "
   ]
  },
  {
   "cell_type": "markdown",
   "metadata": {},
   "source": [
    "If you look at the table on the web, you can perhaps start to guess what the problem is. You can confirm your suspicion by pulling out state names that _contain_ 'Massachusetts', 'Pennsylvania', or 'Virginia' from usa_states_sub:"
   ]
  },
  {
   "cell_type": "code",
   "execution_count": null,
   "metadata": {},
   "outputs": [],
   "source": [
    "usa_states_sub.state[usa_states_sub.state.str.contains('Massachusetts|Pennsylvania|Rhode Island|Virginia')]"
   ]
  },
  {
   "cell_type": "markdown",
   "metadata": {},
   "source": [
    "Delete square brackets and their contents and try again:"
   ]
  },
  {
   "cell_type": "code",
   "execution_count": null,
   "metadata": {},
   "outputs": [],
   "source": [
    "#Code task 33#\n",
    "#Use pandas' Series' `replace()` method to replace anything within square brackets (including the brackets)\n",
    "#with the empty string. Do this inplace, so you need to specify the arguments:\n",
    "#to_replace='\\[.*\\]' #literal square bracket followed by anything or nothing followed by literal closing bracket\n",
    "#value='' #empty string as replacement\n",
    "#regex=True #we used a regex in our `to_replace` argument\n",
    "#inplace=True #Do this \"in place\"\n",
    "usa_states_sub.state.replace(to_replace=\"\\[.*\\]\", value=\"\", regex=True, inplace=True)\n",
    "usa_states_sub.state[usa_states_sub.state.str.contains('Massachusetts|Pennsylvania|Rhode Island|Virginia')]"
   ]
  },
  {
   "cell_type": "code",
   "execution_count": null,
   "metadata": {},
   "outputs": [],
   "source": [
    "#Code task 34#\n",
    "#And now verify none of our states are missing by checking that there are no states in\n",
    "#state_summary that are not in usa_states_sub (as earlier using `set()`)\n",
    "#missing_states = set(state_summary[\"state\"]) - set(usa_states_sub.state)\n",
    "#missing_states\n",
    "missing_states = set(state_summary.state) - set(usa_states_sub.state)\n",
    "missing_states"
   ]
  },
  {
   "cell_type": "markdown",
   "metadata": {},
   "source": [
    "Better! You have an empty set for missing states now. You can confidently add the population and state area columns to the ski resort data."
   ]
  },
  {
   "cell_type": "code",
   "execution_count": null,
   "metadata": {},
   "outputs": [],
   "source": [
    "#Code task 35#\n",
    "#Use 'state_summary's `merge()` method to combine our new data in 'usa_states_sub'\n",
    "#specify the arguments how='left' and on='state'\n",
    "state_summary = state_summary.merge(usa_states_sub, how=\"left\", on=\"state\")\n",
    "state_summary.head()"
   ]
  },
  {
   "cell_type": "markdown",
   "metadata": {},
   "source": [
    "Having created this data frame of summary statistics for various states, it would seem obvious to join this with the ski resort data to augment it with this additional data. You will do this, but not now. In the next notebook you will be exploring the data, including the relationships between the states. For that you want a separate row for each state, as you have here, and joining the data this soon means you'd need to separate and eliminate redundances in the state data when you wanted it."
   ]
  },
  {
   "cell_type": "markdown",
   "metadata": {},
   "source": [
    "## 2.11 Target Feature<a id='2.11_Target_Feature'></a>"
   ]
  },
  {
   "cell_type": "markdown",
   "metadata": {},
   "source": [
    "Finally, what will your target be when modelling ticket price? What relationship is there between weekday and weekend prices?"
   ]
  },
  {
   "cell_type": "code",
   "execution_count": null,
   "metadata": {},
   "outputs": [],
   "source": [
    "#Code task 36#\n",
    "#Use ski_data's `plot()` method to create a scatterplot (kind='scatter') with 'AdultWeekday' on the x-axis and\n",
    "#'AdultWeekend' on the y-axis\n",
    "ski_data.plot(x=\"AdultWeekday\", y=\"AdultWeekend\", kind=\"scatter\");"
   ]
  },
  {
   "cell_type": "markdown",
   "metadata": {},
   "source": [
    "A couple of observations can be made. Firstly, there is a clear line where weekend and weekday prices are equal. Weekend prices being higher than weekday prices seem restricted to sub $100 resorts. Recall from the boxplot earlier that the distribution for weekday and weekend prices in Montana seemed equal. Is this confirmed in the actual data for each resort? Big Mountain resort is in Montana, so the relationship between these quantities in this state are particularly relevant."
   ]
  },
  {
   "cell_type": "code",
   "execution_count": null,
   "metadata": {},
   "outputs": [],
   "source": [
    "#Code task 37#\n",
    "#Use the loc accessor on ski_data to print the 'AdultWeekend' and 'AdultWeekday' columns for Montana only\n",
    "ski_data.loc[ski_data.state == \"Montana\", [\"AdultWeekend\", \"AdultWeekday\"]]"
   ]
  },
  {
   "cell_type": "markdown",
   "metadata": {},
   "source": [
    "Is there any reason to prefer weekend or weekday prices? Which is missing the least?"
   ]
  },
  {
   "cell_type": "code",
   "execution_count": null,
   "metadata": {},
   "outputs": [],
   "source": [
    "ski_data[['AdultWeekend', 'AdultWeekday']].isnull().sum()"
   ]
  },
  {
   "cell_type": "markdown",
   "metadata": {},
   "source": [
    "Weekend prices have the least missing values of the two, so drop the weekday prices and then keep just the rows that have weekend price."
   ]
  },
  {
   "cell_type": "code",
   "execution_count": null,
   "metadata": {},
   "outputs": [],
   "source": [
    "ski_data.drop(columns='AdultWeekday', inplace=True)\n",
    "ski_data.dropna(subset=['AdultWeekend'], inplace=True)"
   ]
  },
  {
   "cell_type": "code",
   "execution_count": null,
   "metadata": {},
   "outputs": [],
   "source": [
    "ski_data.shape"
   ]
  },
  {
   "cell_type": "markdown",
   "metadata": {},
   "source": [
    "Perform a final quick check on the data."
   ]
  },
  {
   "cell_type": "markdown",
   "metadata": {},
   "source": [
    "### 2.11.1 Number Of Missing Values By Row - Resort<a id='2.11.1_Number_Of_Missing_Values_By_Row_-_Resort'></a>"
   ]
  },
  {
   "cell_type": "markdown",
   "metadata": {},
   "source": [
    "Having dropped rows missing the desired target ticket price, what degree of missingness do you have for the remaining rows?"
   ]
  },
  {
   "cell_type": "code",
   "execution_count": null,
   "metadata": {},
   "outputs": [],
   "source": [
    "missing = pd.concat([ski_data.isnull().sum(axis=1), 100 * ski_data.isnull().mean(axis=1)], axis=1)\n",
    "missing.columns=['count', '%']\n",
    "missing.sort_values(by='count', ascending=False).head(10)"
   ]
  },
  {
   "cell_type": "markdown",
   "metadata": {},
   "source": [
    "These seem possibly curiously quantized..."
   ]
  },
  {
   "cell_type": "code",
   "execution_count": null,
   "metadata": {},
   "outputs": [],
   "source": [
    "missing['%'].unique()"
   ]
  },
  {
   "cell_type": "markdown",
   "metadata": {},
   "source": [
    "Yes, the percentage of missing values per row appear in multiples of 4."
   ]
  },
  {
   "cell_type": "code",
   "execution_count": null,
   "metadata": {},
   "outputs": [],
   "source": [
    "missing['%'].value_counts()"
   ]
  },
  {
   "cell_type": "markdown",
   "metadata": {},
   "source": [
    "This is almost as if values have been removed artificially... Nevertheless, what you don't know is how useful the missing features are in predicting ticket price. You shouldn't just drop rows that are missing several useless features."
   ]
  },
  {
   "cell_type": "code",
   "execution_count": null,
   "metadata": {},
   "outputs": [],
   "source": [
    "ski_data.info()"
   ]
  },
  {
   "cell_type": "markdown",
   "metadata": {},
   "source": [
    "There are still some missing values, and it's good to be aware of this, but leave them as is for now."
   ]
  },
  {
   "cell_type": "markdown",
   "metadata": {},
   "source": [
    "## 2.12 Save data<a id='2.12_Save_data'></a>"
   ]
  },
  {
   "cell_type": "code",
   "execution_count": null,
   "metadata": {},
   "outputs": [],
   "source": [
    "ski_data.shape"
   ]
  },
  {
   "cell_type": "markdown",
   "metadata": {},
   "source": [
    "Save this to your data directory, separately. Note that you were provided with the data in `raw_data` and you should saving derived data in a separate location. This guards against overwriting our original data."
   ]
  },
  {
   "cell_type": "code",
   "execution_count": null,
   "metadata": {},
   "outputs": [],
   "source": [
    "# save the data to a new csv file\n",
    "datapath = '../data'\n",
    "save_file(ski_data, 'ski_data_cleaned.csv', datapath)"
   ]
  },
  {
   "cell_type": "code",
   "execution_count": null,
   "metadata": {},
   "outputs": [],
   "source": [
    "# save the state_summary separately.\n",
    "datapath = '../data'\n",
    "save_file(state_summary, 'state_summary.csv', datapath)"
   ]
  },
  {
   "cell_type": "markdown",
   "metadata": {},
   "source": [
    "## 2.13 Summary<a id='2.13_Summary'></a>"
   ]
  },
  {
   "cell_type": "markdown",
   "metadata": {},
   "source": [
    "**Q: 3** Write a summary statement that highlights the key processes and findings from this notebook. This should include information such as the original number of rows in the data, whether our own resort was actually present etc. What columns, if any, have been removed? Any rows? Summarise the reasons why. Were any other issues found? What remedial actions did you take? State where you are in the project. Can you confirm what the target feature is for your desire to predict ticket price? How many rows were left in the data? Hint: this is a great opportunity to reread your notebook, check all cells have been executed in order and from a \"blank slate\" (restarting the kernel will do this), and that your workflow makes sense and follows a logical pattern. As you do this you can pull out salient information for inclusion in this summary. Thus, this section will provide an important overview of \"what\" and \"why\" without having to dive into the \"how\" or any unproductive or inconclusive steps along the way."
   ]
  },
  {
   "cell_type": "markdown",
   "metadata": {},
   "source": [
    "**A: 3** Your answer here"
   ]
  },
  {
   "cell_type": "code",
   "execution_count": null,
   "metadata": {},
   "outputs": [],
   "source": [
    "print(\"After wrangling with the data, we have 277 rows and 25 columns left.\\\n",
    "By plotting a graph, we can see the relationship between AdultWeekday or AdultWeekend is linear \\\n",
    "(i.e. the higher the value of AdultWeekday, the higher the value of AdultWeekend.) \\\n",
    "Therefore, we can drop one of the prices. Since AdultWeekend has the least missing value of the two, \\\n",
    "we choose to drop the AdultWeekday.\")\n"
   ]
  },
  {
   "cell_type": "code",
   "execution_count": null,
   "metadata": {},
   "outputs": [],
   "source": []
  }
 ],
 "metadata": {
  "kernelspec": {
   "display_name": "Python 3",
   "language": "python",
   "name": "python3"
  },
  "language_info": {
   "codemirror_mode": {
    "name": "ipython",
    "version": 3
   },
   "file_extension": ".py",
   "mimetype": "text/x-python",
   "name": "python",
   "nbconvert_exporter": "python",
   "pygments_lexer": "ipython3",
   "version": "3.9.5"
  },
  "toc": {
   "base_numbering": 1,
   "nav_menu": {},
   "number_sections": true,
   "sideBar": true,
   "skip_h1_title": false,
   "title_cell": "Table of Contents",
   "title_sidebar": "Contents",
   "toc_cell": false,
   "toc_position": {},
   "toc_section_display": true,
   "toc_window_display": true
  },
  "varInspector": {
   "cols": {
    "lenName": 16,
    "lenType": 16,
    "lenVar": 40
   },
   "kernels_config": {
    "python": {
     "delete_cmd_postfix": "",
     "delete_cmd_prefix": "del ",
     "library": "var_list.py",
     "varRefreshCmd": "print(var_dic_list())"
    },
    "r": {
     "delete_cmd_postfix": ") ",
     "delete_cmd_prefix": "rm(",
     "library": "var_list.r",
     "varRefreshCmd": "cat(var_dic_list()) "
    }
   },
   "types_to_exclude": [
    "module",
    "function",
    "builtin_function_or_method",
    "instance",
    "_Feature"
   ],
   "window_display": false
  }
 },
 "nbformat": 4,
 "nbformat_minor": 4
}
